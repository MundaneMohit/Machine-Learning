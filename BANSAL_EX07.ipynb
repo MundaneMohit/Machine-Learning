{
 "cells": [
  {
   "cell_type": "markdown",
   "metadata": {},
   "source": [
    "# <center>Machine Learning Lab: Exercise Sheet 7</center>\n",
    "<center> <b>Submitted By: Mohit Bansal</b></center>\n",
    "<center> <b>Student ID: 279314</b></center>"
   ]
  },
  {
   "cell_type": "markdown",
   "metadata": {},
   "source": [
    "## Datasets\n",
    "1. Classification Datasets: You can use one of the two datasets (or optionally, both datasets):\n",
    "\n",
    "    (a) **Iris dataset D1**: Target attribute class: Iris Setosa, Iris Versicolour, Iris Virginica https://archive.ics.uci.edu/ml/datasets/Iris\n",
    "\n",
    "    (b) **Wine Quality D2**: (use winequality-red.csv) http://archive.ics.uci.edu/ml/datasets/Wine+Quality\n",
    "    \n",
    "You are required to pre-process given datasets"
   ]
  },
  {
   "cell_type": "code",
   "execution_count": 78,
   "metadata": {},
   "outputs": [
    {
     "data": {
      "text/html": [
       "<div>\n",
       "<style scoped>\n",
       "    .dataframe tbody tr th:only-of-type {\n",
       "        vertical-align: middle;\n",
       "    }\n",
       "\n",
       "    .dataframe tbody tr th {\n",
       "        vertical-align: top;\n",
       "    }\n",
       "\n",
       "    .dataframe thead th {\n",
       "        text-align: right;\n",
       "    }\n",
       "</style>\n",
       "<table border=\"1\" class=\"dataframe\">\n",
       "  <thead>\n",
       "    <tr style=\"text-align: right;\">\n",
       "      <th></th>\n",
       "      <th>sepal-length</th>\n",
       "      <th>sepal-width</th>\n",
       "      <th>petal-length</th>\n",
       "      <th>petal-width</th>\n",
       "      <th>class</th>\n",
       "    </tr>\n",
       "  </thead>\n",
       "  <tbody>\n",
       "    <tr>\n",
       "      <th>0</th>\n",
       "      <td>5.1</td>\n",
       "      <td>3.5</td>\n",
       "      <td>1.4</td>\n",
       "      <td>0.2</td>\n",
       "      <td>Iris-setosa</td>\n",
       "    </tr>\n",
       "    <tr>\n",
       "      <th>1</th>\n",
       "      <td>4.9</td>\n",
       "      <td>3.0</td>\n",
       "      <td>1.4</td>\n",
       "      <td>0.2</td>\n",
       "      <td>Iris-setosa</td>\n",
       "    </tr>\n",
       "    <tr>\n",
       "      <th>2</th>\n",
       "      <td>4.7</td>\n",
       "      <td>3.2</td>\n",
       "      <td>1.3</td>\n",
       "      <td>0.2</td>\n",
       "      <td>Iris-setosa</td>\n",
       "    </tr>\n",
       "    <tr>\n",
       "      <th>3</th>\n",
       "      <td>4.6</td>\n",
       "      <td>3.1</td>\n",
       "      <td>1.5</td>\n",
       "      <td>0.2</td>\n",
       "      <td>Iris-setosa</td>\n",
       "    </tr>\n",
       "    <tr>\n",
       "      <th>4</th>\n",
       "      <td>5.0</td>\n",
       "      <td>3.6</td>\n",
       "      <td>1.4</td>\n",
       "      <td>0.2</td>\n",
       "      <td>Iris-setosa</td>\n",
       "    </tr>\n",
       "  </tbody>\n",
       "</table>\n",
       "</div>"
      ],
      "text/plain": [
       "   sepal-length  sepal-width  petal-length  petal-width       class \n",
       "0           5.1          3.5           1.4          0.2  Iris-setosa\n",
       "1           4.9          3.0           1.4          0.2  Iris-setosa\n",
       "2           4.7          3.2           1.3          0.2  Iris-setosa\n",
       "3           4.6          3.1           1.5          0.2  Iris-setosa\n",
       "4           5.0          3.6           1.4          0.2  Iris-setosa"
      ]
     },
     "execution_count": 78,
     "metadata": {},
     "output_type": "execute_result"
    }
   ],
   "source": [
    "# Import Libraries\n",
    "import os\n",
    "import pandas as pd\n",
    "import numpy as np\n",
    "import matplotlib.pyplot as plt\n",
    "from collections import Counter\n",
    "from sklearn.model_selection import train_test_split\n",
    "from sklearn.model_selection import cross_val_score\n",
    "from sklearn.metrics import accuracy_score\n",
    "\n",
    "\n",
    "# define column names\n",
    "names = ['sepal_length', 'sepal_width', 'petal_length', 'petal_width', 'class']\n",
    "\n",
    "# loading training data\n",
    "\n",
    "path = '/Users/mundanemohit/Google Drive/My Work/MSc. Data Analytics/WiSe 18/3101 Machine Learning/Excercises/Excercise 3'\n",
    "os.chdir(path)\n",
    "filename = 'iris.data'\n",
    "irisDF = pd.read_csv(filename)\n",
    "irisDF.head()\n"
   ]
  },
  {
   "cell_type": "markdown",
   "metadata": {},
   "source": [
    "# Exercise 1: Implement K-Nearest Neighbor (KNN) (10 Points)\n",
    "Your task is to implement KNN algorithm. To implement KNN you have to:\n",
    "+ **Split data into a train and a test split (70% and 30% respectively).**"
   ]
  },
  {
   "cell_type": "code",
   "execution_count": 139,
   "metadata": {},
   "outputs": [
    {
     "name": "stdout",
     "output_type": "stream",
     "text": [
      "Iris Dataset ----> Train Set: 105     Test Set:  45\n"
     ]
    }
   ],
   "source": [
    "# create design matrix X and target vector y\n",
    "X = np.array(irisDF.ix[:, 0:4]) \t# end index is exclusive\n",
    "y = np.array(irisDF['class ']) \t# another way of indexing a pandas df\n",
    "\n",
    "# split into train and test\n",
    "X_train, X_test, y_train, y_test = train_test_split(X, y, test_size=0.30, random_state=123)\n",
    "\n",
    "print(\"Iris Dataset ----> Train Set:\", len(X_train), \"    Test Set: \", len(X_test))"
   ]
  },
  {
   "cell_type": "markdown",
   "metadata": {},
   "source": [
    "+ **Implement a similarity (or a distance) measure. To begin with you can implement the Euclidean Distance**\n",
    "\n",
    "For each point in the test set, we will calculate it's distance from each point in the training set and add it to a vector.\n",
    "\n",
    "+ **Implement a function that returns top K Nearest Neighbors for a given query (data point).**\n",
    "\n",
    "For each point in the test set, the vector is sorted and top K points are selected as nearest neighbour.\n",
    "\n",
    "+ **You should provide the prediction for a given query (for a classification task you can use majority voting and for a regression you can use mean).**\n",
    "\n",
    "Since IRIS is a classification dataset, we take the most common neighbour as the final prediction."
   ]
  },
  {
   "cell_type": "code",
   "execution_count": 140,
   "metadata": {},
   "outputs": [],
   "source": [
    "def predict(X_train, y_train, x_test, k):\n",
    "    # create list for distances and targets\n",
    "    distances = []\n",
    "    targets = []\n",
    "\n",
    "    for i in range(len(X_train)):\n",
    "        # first we compute the euclidean distance\n",
    "        distance = np.sqrt(np.sum(np.square(x_test - X_train[i, :])))\n",
    "        # add it to list of distances\n",
    "        distances.append([distance, i])\n",
    "\n",
    "    # sort the list\n",
    "    distances = sorted(distances)\n",
    "\n",
    "    # make a list of the k neighbors' targets\n",
    "    for i in range(k):\n",
    "        index = distances[i][1]\n",
    "        targets.append(y_train[index])\n",
    "\n",
    "    # return most common target\n",
    "    return Counter(targets).most_common(1)[0][0]\n",
    "\n",
    "def kNearestNeighbor(X_train, y_train, X_test, k):\n",
    "    predictions = []\n",
    "    \n",
    "    # loop over all observations\n",
    "    for i in range(len(X_test)):\n",
    "        predictions.append(predict(X_train, y_train, X_test[i, :], k))\n",
    "    \n",
    "    return np.asarray(predictions)"
   ]
  },
  {
   "cell_type": "markdown",
   "metadata": {},
   "source": [
    "+ **Measure the quality of your prediction. [Hint: You have to choose a quality criterion according to the task you are solving i.e. a regression or a classification task Defend your choice].**"
   ]
  },
  {
   "cell_type": "code",
   "execution_count": 207,
   "metadata": {},
   "outputs": [
    {
     "name": "stdout",
     "output_type": "stream",
     "text": [
      "\n",
      "The accuracy of our classifier is 95.555556%\n"
     ]
    }
   ],
   "source": [
    "# making our predictions for k = 3\n",
    "ytest_hat = kNearestNeighbor(X_train, y_train, X_test, k = 3)\n",
    "accuracy = accuracy_score(y_test, ytest_hat) * 100\n",
    "print('\\nThe accuracy of our classifier is %2f%%' % accuracy)"
   ]
  },
  {
   "cell_type": "markdown",
   "metadata": {},
   "source": [
    "Here, we used a simple accuracy score where,\n",
    "\n",
    "$$Accuracy = \\frac{correct-classifications}{total-observations}$$\n",
    "\n",
    "We started with k = 3 and got a 95.56% accuracy on the test set which is pretty good given the small size of the dataset. This shows that the Iris dataset is highly homogenous in a multidimensional setting."
   ]
  },
  {
   "cell_type": "markdown",
   "metadata": {},
   "source": [
    "# Exercise 2: Optimize and Compare KNN algorithm. (10 Points)\n",
    "### Part A: Determine Optimal Value of K in KNN algorithm. In this exercise you have to provide the optimal value of K for given datasets.\n",
    "**1. How you can choose value of K for KNN. Give a criterion to choose an optimal value of K**\n",
    "\n",
    "We can use *k-folds cross-validation with Grid-Search* technique to tune our hyperparameter K. \n",
    "\n",
    "**2. Implement the criterion for choosing the optimal value of K.**\n",
    "\n",
    "+ We will divide our training set into k-folds (where k is different from K) \n",
    "+ For each value of k:\n",
    "    + Use k-1 folds for training\n",
    "    + Run the model on the last fold (validation set)\n",
    "    + Calculate the accuracy score\n",
    "    + Finally, average all the scores\n",
    "\n",
    "The value of K which yeilds the highest accuracy (or lowest error) is the optimal value"
   ]
  },
  {
   "cell_type": "code",
   "execution_count": 221,
   "metadata": {},
   "outputs": [],
   "source": [
    "from sklearn.model_selection import KFold\n",
    "\n",
    "def kfold_Cross_Val(X, y, K, CV_splits = 10):\n",
    "    # Define the split - into 10 folds by default\n",
    "    kf = KFold(CV_splits) \n",
    "\n",
    "    fold_accuracy = []\n",
    "    # For each fold\n",
    "    for train_index, val_index in kf.split(X):\n",
    "        # Create training and validation sets\n",
    "        X_train_CV, X_val_CV = X[train_index], X[val_index]\n",
    "        y_train_CV, y_val_CV = y[train_index], y[val_index]\n",
    "        # Make prediction on validation set\n",
    "        yval_hat_CV = kNearestNeighbor(X_train_CV, y_train_CV, X_val_CV, k = K)\n",
    "        # Calculate accuracy\n",
    "        fold_accuracy.append(accuracy_score(y_val_CV, yval_hat_CV))        \n",
    "    # Average accuracy over all folds \n",
    "    return np.mean(fold_accuracy)\n",
    "    \n",
    "# creating list of K for KNN Grid-search\n",
    "neighbors = list(range(1,20))  \n",
    "\n",
    "# empty list that will hold cv scores\n",
    "cv_scores = []\n",
    "\n",
    "# For each K-value\n",
    "for K in neighbors:\n",
    "    # Get average accuracy over all folds\n",
    "    accuracy = kfold_Cross_Val(X_train, y_train, K)\n",
    "    cv_scores.append(accuracy)"
   ]
  },
  {
   "cell_type": "code",
   "execution_count": 222,
   "metadata": {},
   "outputs": [
    {
     "name": "stdout",
     "output_type": "stream",
     "text": [
      "The optimal number of neighbors is 10\n"
     ]
    }
   ],
   "source": [
    "# changing to misclassification error\n",
    "MSE = [1 - x for x in cv_scores]\n",
    "\n",
    "# determining best K\n",
    "optimal_k = neighbors[MSE.index(min(MSE))]\n",
    "print(\"The optimal number of neighbors is %d\" % optimal_k)"
   ]
  },
  {
   "cell_type": "code",
   "execution_count": 223,
   "metadata": {},
   "outputs": [
    {
     "name": "stdout",
     "output_type": "stream",
     "text": [
      "\n",
      "The accuracy of our classifier is 97.777778%\n"
     ]
    }
   ],
   "source": [
    "# making our predictions on k = 10\n",
    "ytest_hat = kNearestNeighbor(X_train, y_train, X_test, k = optimal_k)\n",
    "accuracy = accuracy_score(y_test, ytest_hat) * 100\n",
    "print('\\nThe accuracy of our classifier is %2f%%' % accuracy)"
   ]
  },
  {
   "cell_type": "markdown",
   "metadata": {},
   "source": [
    "So our accuracy has improved from 95.56% (k = 3) to 97.78% (k = 10) !\n",
    "\n",
    "**3. Experimentally, give evidence that your chosen value is better than other values of K. [Hint: run your experiment with different values of K and plot the error measure for each value].**"
   ]
  },
  {
   "cell_type": "code",
   "execution_count": 224,
   "metadata": {},
   "outputs": [
    {
     "data": {
      "image/png": "[encoded data removed]",
      "text/plain": [
       "<matplotlib.figure.Figure at 0x1a16c5b7b8>"
      ]
     },
     "metadata": {},
     "output_type": "display_data"
    }
   ],
   "source": [
    "# plot misclassification error vs k\n",
    "plt.plot(neighbors, MSE)\n",
    "plt.xlabel('Number of Neighbors K')\n",
    "plt.ylabel('Misclassification Error')\n",
    "plt.show()"
   ]
  },
  {
   "cell_type": "markdown",
   "metadata": {},
   "source": [
    "So we can see that the error is least when k = 10 and 12. \n",
    "\n",
    "### Part B: Compare KNN algorithm with Tree based method. In this task you are allowed to use scikit learn. In particular you have to use Nearest Neighbor and Decision Tree implementation provided by scikit learn.\n",
    "\n",
    "**1. You should be able to use Nearest Neighbor and Decision Tree provided by scikit learn to solve classification task for two datasets.**\n",
    "\n",
    "**2. You have to provide the optimal hyperparameters for both the methods. [Hint: use Grid Search and cross validation and present results for them to support your solution].**\n",
    "\n",
    "**3. Present the comparison of the two methods using evaluation results on test datasets. [Hint: Better to use cross validation to ascertain your results]**"
   ]
  },
  {
   "cell_type": "code",
   "execution_count": 250,
   "metadata": {},
   "outputs": [
    {
     "name": "stdout",
     "output_type": "stream",
     "text": [
      "K-value 1 CROSS-VALIDATION SCORE:  0.9700000000000001\n",
      "K-value 2 CROSS-VALIDATION SCORE:  0.9609090909090909\n",
      "K-value 3 CROSS-VALIDATION SCORE:  0.9609090909090909\n",
      "K-value 4 CROSS-VALIDATION SCORE:  0.970909090909091\n",
      "K-value 5 CROSS-VALIDATION SCORE:  0.9800000000000001\n",
      "K-value 6 CROSS-VALIDATION SCORE:  0.97\n",
      "K-value 7 CROSS-VALIDATION SCORE:  0.97\n",
      "K-value 8 CROSS-VALIDATION SCORE:  0.97\n",
      "K-value 9 CROSS-VALIDATION SCORE:  0.97\n",
      "K-value 10 CROSS-VALIDATION SCORE:  0.97\n",
      "K-value 11 CROSS-VALIDATION SCORE:  0.9800000000000001\n",
      "K-value 12 CROSS-VALIDATION SCORE:  0.97\n",
      "K-value 13 CROSS-VALIDATION SCORE:  0.9700000000000001\n",
      "K-value 14 CROSS-VALIDATION SCORE:  0.96\n",
      "K-value 15 CROSS-VALIDATION SCORE:  0.95\n",
      "K-value 16 CROSS-VALIDATION SCORE:  0.96\n",
      "K-value 17 CROSS-VALIDATION SCORE:  0.95\n",
      "K-value 18 CROSS-VALIDATION SCORE:  0.95\n",
      "K-value 19 CROSS-VALIDATION SCORE:  0.95\n",
      "\n",
      "The optimal number of neighbors is 5\n",
      "\n",
      "The accuracy of our classifier on the test set is 97.777778%\n"
     ]
    }
   ],
   "source": [
    "from sklearn.neighbors import KNeighborsClassifier\n",
    "\n",
    "# creating list of K for KNN \n",
    "neighbors = list(range(1,20))\n",
    "\n",
    "# empty list that will hold cv scores\n",
    "cv_scores = []\n",
    "\n",
    "# perform 10-fold cross validation\n",
    "for k in neighbors:\n",
    "    # Build model\n",
    "    knn = KNeighborsClassifier(n_neighbors=k)\n",
    "    # Get validation score for each model\n",
    "    scores = cross_val_score(knn, X_train, y_train, cv=10, scoring='accuracy')\n",
    "    # Get mean score for each k\n",
    "    print('K-value', k, 'CROSS-VALIDATION SCORE: ', scores.mean())\n",
    "    cv_scores.append(scores.mean())\n",
    "\n",
    "optimal_k = neighbors[cv_scores.index(max(cv_scores))]\n",
    "print(\"\\nThe optimal number of neighbors is %d\" % optimal_k)\n",
    "\n",
    "# making our predictions on optimal k\n",
    "ytest_hat = kNearestNeighbor(X_train, y_train, X_test, k = optimal_k)\n",
    "accuracy = accuracy_score(y_test, ytest_hat) * 100\n",
    "print('\\nThe accuracy of our classifier on the test set is %2f%%' % accuracy)"
   ]
  },
  {
   "cell_type": "markdown",
   "metadata": {},
   "source": [
    "Using the Cross-Validation inbuilt KNN Classifier in sklearn, we find that the optimal number of neighbors is 5. The classifier accuracy of 97.78% which is the best accuracy achieved from the previous results.\n",
    "\n",
    "Let's now build a tree based classifier with **tree-depth** and **minimum split size** as our hyper parameters. Since our test set comprises only of 45 values, we will keep the depth between 2 & 6 and split size between 2 and 9."
   ]
  },
  {
   "cell_type": "code",
   "execution_count": 254,
   "metadata": {},
   "outputs": [
    {
     "name": "stdout",
     "output_type": "stream",
     "text": [
      "DEPTH: 2 MIN_SAMPLES:  2 CROSS-VALIDATION SCORE:  0.9309090909090909\n",
      "DEPTH: 2 MIN_SAMPLES:  3 CROSS-VALIDATION SCORE:  0.9309090909090909\n",
      "DEPTH: 2 MIN_SAMPLES:  4 CROSS-VALIDATION SCORE:  0.9309090909090909\n",
      "DEPTH: 2 MIN_SAMPLES:  5 CROSS-VALIDATION SCORE:  0.9109090909090909\n",
      "DEPTH: 2 MIN_SAMPLES:  6 CROSS-VALIDATION SCORE:  0.9309090909090909\n",
      "DEPTH: 2 MIN_SAMPLES:  7 CROSS-VALIDATION SCORE:  0.9309090909090909\n",
      "DEPTH: 2 MIN_SAMPLES:  8 CROSS-VALIDATION SCORE:  0.9309090909090909\n",
      "DEPTH: 2 MIN_SAMPLES:  9 CROSS-VALIDATION SCORE:  0.9109090909090909\n",
      "DEPTH: 3 MIN_SAMPLES:  2 CROSS-VALIDATION SCORE:  0.95\n",
      "DEPTH: 3 MIN_SAMPLES:  3 CROSS-VALIDATION SCORE:  0.9400000000000001\n",
      "DEPTH: 3 MIN_SAMPLES:  4 CROSS-VALIDATION SCORE:  0.95\n",
      "DEPTH: 3 MIN_SAMPLES:  5 CROSS-VALIDATION SCORE:  0.9400000000000001\n",
      "DEPTH: 3 MIN_SAMPLES:  6 CROSS-VALIDATION SCORE:  0.95\n",
      "DEPTH: 3 MIN_SAMPLES:  7 CROSS-VALIDATION SCORE:  0.95\n",
      "DEPTH: 3 MIN_SAMPLES:  8 CROSS-VALIDATION SCORE:  0.95\n",
      "DEPTH: 3 MIN_SAMPLES:  9 CROSS-VALIDATION SCORE:  0.95\n",
      "DEPTH: 4 MIN_SAMPLES:  2 CROSS-VALIDATION SCORE:  0.9600000000000002\n",
      "DEPTH: 4 MIN_SAMPLES:  3 CROSS-VALIDATION SCORE:  0.9400000000000001\n",
      "DEPTH: 4 MIN_SAMPLES:  4 CROSS-VALIDATION SCORE:  0.95\n",
      "DEPTH: 4 MIN_SAMPLES:  5 CROSS-VALIDATION SCORE:  0.9600000000000002\n",
      "DEPTH: 4 MIN_SAMPLES:  6 CROSS-VALIDATION SCORE:  0.95\n",
      "DEPTH: 4 MIN_SAMPLES:  7 CROSS-VALIDATION SCORE:  0.9400000000000001\n",
      "DEPTH: 4 MIN_SAMPLES:  8 CROSS-VALIDATION SCORE:  0.9600000000000002\n",
      "DEPTH: 4 MIN_SAMPLES:  9 CROSS-VALIDATION SCORE:  0.9400000000000001\n",
      "DEPTH: 5 MIN_SAMPLES:  2 CROSS-VALIDATION SCORE:  0.9600000000000002\n",
      "DEPTH: 5 MIN_SAMPLES:  3 CROSS-VALIDATION SCORE:  0.9400000000000001\n",
      "DEPTH: 5 MIN_SAMPLES:  4 CROSS-VALIDATION SCORE:  0.9600000000000002\n",
      "DEPTH: 5 MIN_SAMPLES:  5 CROSS-VALIDATION SCORE:  0.95\n",
      "DEPTH: 5 MIN_SAMPLES:  6 CROSS-VALIDATION SCORE:  0.95\n",
      "DEPTH: 5 MIN_SAMPLES:  7 CROSS-VALIDATION SCORE:  0.95\n",
      "DEPTH: 5 MIN_SAMPLES:  8 CROSS-VALIDATION SCORE:  0.95\n",
      "DEPTH: 5 MIN_SAMPLES:  9 CROSS-VALIDATION SCORE:  0.9400000000000001\n",
      "DEPTH: 6 MIN_SAMPLES:  2 CROSS-VALIDATION SCORE:  0.9600000000000002\n",
      "DEPTH: 6 MIN_SAMPLES:  3 CROSS-VALIDATION SCORE:  0.9600000000000002\n",
      "DEPTH: 6 MIN_SAMPLES:  4 CROSS-VALIDATION SCORE:  0.95\n",
      "DEPTH: 6 MIN_SAMPLES:  5 CROSS-VALIDATION SCORE:  0.9400000000000001\n",
      "DEPTH: 6 MIN_SAMPLES:  6 CROSS-VALIDATION SCORE:  0.95\n",
      "DEPTH: 6 MIN_SAMPLES:  7 CROSS-VALIDATION SCORE:  0.9600000000000002\n",
      "DEPTH: 6 MIN_SAMPLES:  8 CROSS-VALIDATION SCORE:  0.9400000000000001\n",
      "DEPTH: 6 MIN_SAMPLES:  9 CROSS-VALIDATION SCORE:  0.9400000000000001\n"
     ]
    }
   ],
   "source": [
    "from sklearn import tree\n",
    "\n",
    "depth = list(range(2,7))\n",
    "samples = list(range(2,10))\n",
    "\n",
    "# empty list that will hold cv scores\n",
    "cv_scores = []\n",
    "\n",
    "for d in depth:\n",
    "    for s in samples:\n",
    "        clf = tree.DecisionTreeClassifier(max_depth = d, min_samples_split = s)\n",
    "        clf = clf.fit(X_train, y_train)\n",
    "        scores = cross_val_score(clf, X_train, y_train, cv=10, scoring='accuracy')\n",
    "        # Get mean score for each combination\n",
    "        print('DEPTH:', d, 'MIN_SAMPLES: ', s, 'CROSS-VALIDATION SCORE: ', scores.mean())"
   ]
  },
  {
   "cell_type": "markdown",
   "metadata": {},
   "source": [
    "+ We see that depth of 3-5 and split size of 5-7 yeilds best results. \n",
    "+ Let's use (4, 5) as our combination for the test set."
   ]
  },
  {
   "cell_type": "code",
   "execution_count": 253,
   "metadata": {},
   "outputs": [
    {
     "name": "stdout",
     "output_type": "stream",
     "text": [
      "\n",
      "The accuracy of our classifier  on the test set is 93.333333%\n"
     ]
    }
   ],
   "source": [
    "clf = tree.DecisionTreeClassifier(max_depth = 4, min_samples_split = 5)\n",
    "clf = clf.fit(X_train, y_train)\n",
    "ytest_hat = clf.predict(X_test)\n",
    "accuracy = accuracy_score(y_test, ytest_hat) * 100\n",
    "print('\\nThe accuracy of our classifier  on the test set is %2f%%' % accuracy)"
   ]
  },
  {
   "cell_type": "markdown",
   "metadata": {},
   "source": [
    "After running cross-validation to find best set of hyper-parameters for our KNN and Tree models respectively, we conclude that the KNN model had an overall higher accuracy than the tree based model. In a **KNN model** we tried to cluster similar (smaller distance) occurances together in a multidimensional space. This is a computation heavy task since it requires us to calculate distance between each observation. Therefore, for 100 observations we need to calculate 10,000 distance values. However, this also means that KNN can find the best possible solution to a problem since it has all the information before it starts the classification process.\n",
    "\n",
    "A **tree based model** on the other hand, tries to maximize it's information gain at every step without knowing the final outcome. Therefore, it does not have the vision of KNN but is computationally much faster. This is useful when you have large amounts of data and do not require extremely high levels of accuracy.\n",
    "\n",
    "Generally, in larger and noisier datasets, a tree model would be preferable to gain a general insight and learn segregation rules. However, in our case with 150 observations, KNN outperforms tree-based model because of the scarcity and homogenity of the data."
   ]
  },
  {
   "cell_type": "markdown",
   "metadata": {},
   "source": [
    "#### References:\n",
    "\n",
    "+ Complete Guide to KNN with application in Python & R - https://kevinzakka.github.io/2016/07/13/k-nearest-neighbor/"
   ]
  },
  {
   "cell_type": "code",
   "execution_count": null,
   "metadata": {},
   "outputs": [],
   "source": []
  }
 ],
 "metadata": {
  "kernelspec": {
   "display_name": "Python 3",
   "language": "python",
   "name": "python3"
  },
  "language_info": {
   "codemirror_mode": {
    "name": "ipython",
    "version": 3
   },
   "file_extension": ".py",
   "mimetype": "text/x-python",
   "name": "python",
   "nbconvert_exporter": "python",
   "pygments_lexer": "ipython3",
   "version": "3.6.4"
  }
 },
 "nbformat": 4,
 "nbformat_minor": 2
}
