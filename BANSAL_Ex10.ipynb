{
 "cells": [
  {
   "cell_type": "markdown",
   "metadata": {},
   "source": [
    "# <center>Machine Learning Lab: Exercise Sheet 10</center>\n",
    "<center> <b>Submitted By: Mohit Bansal</b></center>\n",
    "<center> <b>Student ID: 279314</b></center>"
   ]
  },
  {
   "cell_type": "markdown",
   "metadata": {},
   "source": [
    "### Datasets:\n",
    "+ **IRIS dataset D1:** https://www.csie.ntu.edu.tw/~cjlin/libsvmtools/datasets/multiclass/iris.scale\n",
    "+ **rcv1v2 (topics; subsets D2:** https://www.csie.ntu.edu.tw/~cjlin/libsvmtools/datasets/multilabel.html#rcv1v2(topics;subsets)\n",
    "+ **20Newsgroups dataset D3:** http://qwone.com/~jason/20Newsgroups/\n",
    "\n",
    "# Exercise 1: Implement K Means clustering algorithm (10 Points)\n",
    "\n",
    "+ Implement K-means algorithm\n",
    "+ You should use D1 or D2 datasets\n",
    "+ Your algorithm should be able to handle sparse data\n",
    "+ Finally, you should also choose a criterion for selecting an optimal value of k (number of clusters)\n",
    "\n",
    "\n",
    "## Solution\n",
    "\n",
    "The implementation can be divided into the following:\n",
    "\n",
    "+ **Find Initial Centroids**: Choose k centroids in random.\n",
    "+ **Distance Calculation**: Finding the distance between each of the datapoints with each of the centroids. This distance metric is used to find the which cluster the points belong to.\n",
    "+ **Re-calculating the centroids**: Find the new values for centroid.\n",
    "+ **Stop the iteration**: Stop the algorithm when the difference between the old and the new centroids is negligible.\n",
    "\n",
    "\n",
    "+ **Selecting Optimal K**: We will use the elbow-method to calculate optimal K\n",
    "\n",
    "### Step 0: Loading Data\n",
    "\n",
    "We will be using the IRIS dataset for this excercise. The data is in SVMlight format. We will load it into a sparse matrix"
   ]
  },
  {
   "cell_type": "code",
   "execution_count": 130,
   "metadata": {},
   "outputs": [
    {
     "data": {
      "text/plain": [
       "<150x4 sparse matrix of type '<class 'numpy.float64'>'\n",
       "\twith 587 stored elements in Compressed Sparse Row format>"
      ]
     },
     "execution_count": 130,
     "metadata": {},
     "output_type": "execute_result"
    }
   ],
   "source": [
    "# Import Libraries\n",
    "import os\n",
    "import pandas as pd\n",
    "import numpy as np\n",
    "from copy import deepcopy\n",
    "from sklearn.datasets import dump_svmlight_file, load_svmlight_file\n",
    "\n",
    "# Read the training data\n",
    "path = \"/Users/mundanemohit/Google Drive/My Work/MSc. Data Analytics/WiSe 18/\\\n",
    "3113 Machine Learning Lab/Excercises/Ex10\"\n",
    "os.chdir(path)\n",
    "irisDF = load_svmlight_file('iris.scale.txt')\n",
    "\n",
    "# Check format of iris data\n",
    "irisDF[0]"
   ]
  },
  {
   "cell_type": "markdown",
   "metadata": {},
   "source": [
    "### Step 1: Distance Calculation\n",
    "\n",
    "Create a function for calculating distances between centroids and data points."
   ]
  },
  {
   "cell_type": "code",
   "execution_count": 87,
   "metadata": {},
   "outputs": [],
   "source": [
    "def dist(a, b, ax=1):\n",
    "    return np.round(np.linalg.norm(a - b, axis=ax), 5)"
   ]
  },
  {
   "cell_type": "markdown",
   "metadata": {},
   "source": [
    "## Step 2, 3, 4: Initializating & Optimizing Centroids \n",
    "\n",
    "+ We will implement a kmeans functions which takes in the data & number of clusters as the input\n",
    "+ We will start with k random centroids\n",
    "+ The function will converge when the centroid updates stop (i.e. $C_{old}$ - $C_{new}$ is 0)"
   ]
  },
  {
   "cell_type": "code",
   "execution_count": 126,
   "metadata": {},
   "outputs": [],
   "source": [
    "def kmeans(X, k=3):\n",
    "    # store dimensions of the datasets\n",
    "    m, n = X.shape[0], X.shape[1]\n",
    "\n",
    "    # Coordinates of random centroids\n",
    "    C = np.zeros([n, k])\n",
    "\n",
    "    # Initialize k centroids based on range of values\n",
    "    for i in range(n):\n",
    "        C[i] = np.random.uniform(np.min(X[:, i]), np.max(X[:,i]), (k, ))\n",
    "    C = C.T\n",
    "\n",
    "    # To store the value of centroids when it updates\n",
    "    C_old = np.zeros(C.shape)\n",
    "\n",
    "    # Cluster Lables for each point - Start with labelling them all as 0\n",
    "    clusters = np.zeros(m)\n",
    "\n",
    "    # Distance between new centroids and old centroids\n",
    "    centroid_err = []\n",
    "    centroid_err.append(dist(C, C_old, None))\n",
    "\n",
    "    # Loop will run till the error becomes zero (no more updates)\n",
    "    while(dist(C, C_old, None) != 0):\n",
    "        # Assigning each value to its closest cluster\n",
    "        for i in range(m):\n",
    "            distances = dist(X[i].todense(), C)\n",
    "            cluster = np.argmin(distances)\n",
    "            clusters[i] = cluster\n",
    "\n",
    "        # Storing the old centroid values\n",
    "        C_old = deepcopy(C)\n",
    "\n",
    "        # Finding the new centroids by taking the average value\n",
    "        for i in range(k):\n",
    "            points = [X[j].todense() for j in range(m) if clusters[j] == i]\n",
    "            \n",
    "            # If the centroid has no points, do not update it\n",
    "            if np.isnan(points).all():\n",
    "                C[i] = C_old[i]\n",
    "            else:\n",
    "                C[i] = np.mean(points, axis=0)\n",
    "\n",
    "        # Appending error values\n",
    "        centroid_err.append(dist(C, C_old, None))\n",
    "    \n",
    "    # print descent of error\n",
    "    #print(\"# CLUSTERS: \", k)\n",
    "    \n",
    "    # Calculate final distance between centroids and points\n",
    "    error = []\n",
    "    for i in range(k):\n",
    "        points = [X[j].todense() for j in range(m) if clusters[j] == i]\n",
    "        \n",
    "        if not(np.isnan(points).all()):\n",
    "            D = dist(points, C[i], ax = 1)\n",
    "            error.append(D.mean())\n",
    "    return C, np.mean(error)    "
   ]
  },
  {
   "cell_type": "markdown",
   "metadata": {},
   "source": [
    "### Let's see our code in action"
   ]
  },
  {
   "cell_type": "code",
   "execution_count": 132,
   "metadata": {},
   "outputs": [
    {
     "name": "stdout",
     "output_type": "stream",
     "text": [
      "Centroids \n",
      "  [[ 0.41452981 -0.09829064  0.59408938  0.64957267]\n",
      " [-0.60777778  0.18166667 -0.84271174 -0.88000014]\n",
      " [-0.11748638 -0.38524591  0.15143093  0.09836071]]\n",
      "Mean Error:  0.16260368057306993\n"
     ]
    }
   ],
   "source": [
    "X = irisDF[0]\n",
    "\n",
    "C, error = kmeans(X, k=3)\n",
    "print(\"Centroids \\n \", C)\n",
    "print(\"Mean Error: \", error)"
   ]
  },
  {
   "cell_type": "markdown",
   "metadata": {},
   "source": [
    "### Step 5: Calculating Optimal k-value\n",
    "\n",
    "We will plot the average k-means error on test set for each k value and will take the elbow point as the optimal k"
   ]
  },
  {
   "cell_type": "code",
   "execution_count": 146,
   "metadata": {
    "scrolled": true
   },
   "outputs": [
    {
     "data": {
      "image/png": "[encoded data removed]",
      "text/plain": [
       "<matplotlib.figure.Figure at 0x1a153b5668>"
      ]
     },
     "metadata": {},
     "output_type": "display_data"
    }
   ],
   "source": [
    "E = []\n",
    "for i in range(1, 10):\n",
    "    C, error = kmeans(X, k=i)\n",
    "    E.append(error)\n",
    "\n",
    "plt.plot(range(1,10), E)\n",
    "plt.xlabel(\"# Clusters\")\n",
    "plt.ylabel(\"Mean Error\")\n",
    "plt.show()"
   ]
  },
  {
   "cell_type": "markdown",
   "metadata": {},
   "source": [
    "So we can see that the elbow point occurs when k = 2. This means that according to our algorithm, the optimal number of clusters should be 2 in order to minimize error. This isn't really in line with the 3 clusters that were originally given to us in the iris dataset. However, the error value does keep decreasing for k = 3, 4. So, ideally we can try (2, 4) clusters and see which scenario works best for us."
   ]
  },
  {
   "cell_type": "markdown",
   "metadata": {},
   "source": [
    "# Exercise 2: Cluster news articles (10 Points)\n",
    "D3 is 20Newsgroups dataset (download “20news-bydate.tar.gz”). Each news article is stored as a file in its group folder i.e. all articles corresponding to “alt.atheism” are placed in “alt.atheism folder”. \n",
    "+ Do appropriate pre-processing of the data and extract features for each document\n",
    "+ After preprocessing you need to store data in a libsvm file format \n",
    "+ Note that you are provided with train and test splits. Use these train and test splits\n",
    "+ Cluster the 20newsgroup dataset using your own implementation of Kmeans algorithm\n",
    "+ Use test data to measure quality of the clustering algorithm\n",
    "+ The second part of this exercise is to use a kmeans provided by a software library of your choice\n",
    "+ Compare results of your implementation with kmeans library \n",
    "+ What optimal value of K you get in both the cases\n",
    "+ Which implementation take longer i.e. time your program \n",
    "\n",
    "## Solution\n",
    "\n",
    "### PART 1: Loading Dataset and performing K-Means using our implementation"
   ]
  },
  {
   "cell_type": "code",
   "execution_count": 155,
   "metadata": {},
   "outputs": [
    {
     "data": {
      "image/png": "[encoded data removed]",
      "text/plain": [
       "<matplotlib.figure.Figure at 0x1a17a8a518>"
      ]
     },
     "metadata": {},
     "output_type": "display_data"
    }
   ],
   "source": [
    "#Finding the optimum number of clusters for k-means classification\n",
    "from sklearn.cluster import KMeans\n",
    "wcss = []\n",
    "\n",
    "for i in range(1, 11):\n",
    "    kmeans = KMeans(n_clusters = i, init = 'k-means++', max_iter = 300, n_init = 10, random_state = 0)\n",
    "    kmeans.fit(X)\n",
    "    wcss.append(kmeans.inertia_)\n",
    "    \n",
    "#Plotting the results onto a line graph, allowing us to observe 'The elbow'\n",
    "plt.plot(range(1, 11), wcss)\n",
    "plt.title('The elbow method')\n",
    "plt.xlabel('Number of clusters')\n",
    "plt.ylabel('WCSS') #within cluster sum of squares\n",
    "plt.show()"
   ]
  },
  {
   "cell_type": "code",
   "execution_count": 158,
   "metadata": {},
   "outputs": [],
   "source": [
    "#Applying kmeans to the dataset / Creating the kmeans classifier\n",
    "kmeans = KMeans(n_clusters = 3, init = 'k-means++', max_iter = 300, n_init = 10, random_state = 0)\n",
    "y_kmeans = kmeans.fit_predict(X)"
   ]
  },
  {
   "cell_type": "markdown",
   "metadata": {},
   "source": [
    "## References:\n",
    "\n",
    "+ http://madhugnadig.com/articles/machine-learning/2017/03/04/implementing-k-means-clustering-from-scratch-in-python.html  \n",
    "+ https://mubaris.com/posts/kmeans-clustering/"
   ]
  },
  {
   "cell_type": "code",
   "execution_count": null,
   "metadata": {},
   "outputs": [],
   "source": []
  }
 ],
 "metadata": {
  "kernelspec": {
   "display_name": "Python 3",
   "language": "python",
   "name": "python3"
  },
  "language_info": {
   "codemirror_mode": {
    "name": "ipython",
    "version": 3
   },
   "file_extension": ".py",
   "mimetype": "text/x-python",
   "name": "python",
   "nbconvert_exporter": "python",
   "pygments_lexer": "ipython3",
   "version": "3.6.4"
  }
 },
 "nbformat": 4,
 "nbformat_minor": 2
}
