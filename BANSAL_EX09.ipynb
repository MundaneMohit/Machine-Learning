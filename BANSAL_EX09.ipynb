{
 "cells": [
  {
   "cell_type": "markdown",
   "metadata": {},
   "source": [
    "# <center>Machine Learning Lab: Exercise Sheet 9</center>\n",
    "<center> <b>Submitted By: Mohit Bansal</b></center>\n",
    "<center> <b>Student ID: 279314</b></center>"
   ]
  },
  {
   "cell_type": "markdown",
   "metadata": {},
   "source": [
    "#### 1. Sparse dataset :\n",
    "+ w8a dataset D1: https://www.csie.ntu.edu.tw/~cjlin/libsvmtools/datasets/binary.html#\n",
    "    \n",
    "#### 2. UCI Dataset:\n",
    "+ SMS Spam D2: https://archive.ics.uci.edu/ml/datasets/SMS+Spam+Collection\n",
    "+ Spambase D3: https://archive.ics.uci.edu/ml/datasets/Spambase\n",
    "\n",
    "\n",
    "# Exercise 1: A spam filter using SVM (16 Points)\n",
    "\n",
    "## Part A: (8 Points): Build a spam filter using a pre-processed dataset\n",
    "\n",
    "+ A spam filter classify an email to be Ham or Spam, using the content of an email as features\n",
    "+ You have to use dataset D3 for this task. Build a basic spam filter using SVM. \n",
    "+ You have to use libsvm https://github.com/cjlin1/libsvm/tree/master/python. \n",
    "+ libsvm accepts data in a libsvm format. Each data row in a libsvm format is given as:\n",
    "        < label > < index1 >:< value1 > < index2 >:< value2 >. . .\n",
    "+ Convert dataset D3 into a libsvm format. \n",
    "+ Follow the readme document given on the libsvm link to see how you can use it to solve your problem. \n",
    "+ You have to learn a spam classifier on train part of the dataset and evaluate it on test dataset. \n",
    "+ Also optimize the hyper parameter i.e. value of C. [hint: when choosing the range of hyperparameter its always useful to check a diverse range i.e. C ={1,2,3,4} is not a good range to check for optimal value, you might want to check a broader range going from 0.1 to 100 etc.]. \n",
    "+ Present your results in form of graphs and tables, listing details. \n",
    "+ You have to choose a quality criterion according to the given problem i.e. classification. \n",
    "\n",
    "Note: If you are not able to use libsvm you can replace it with scikit learn. But you have to convert your data into libsvm format.\n",
    "\n",
    "## Solution:\n",
    "\n",
    "### Step 0: Loading Libraries"
   ]
  },
  {
   "cell_type": "code",
   "execution_count": 9,
   "metadata": {},
   "outputs": [],
   "source": [
    "# Import Libraries\n",
    "import os\n",
    "import csv\n",
    "import operator\n",
    "import pandas as pd\n",
    "import numpy as np\n",
    "import matplotlib.pyplot as plt\n",
    "from numpy.random import RandomState\n",
    "from sklearn.cross_validation import train_test_split\n",
    "from sklearn.tree import DecisionTreeClassifier\n",
    "from sklearn.metrics import roc_curve, auc\n",
    "from sklearn.grid_search import GridSearchCV\n",
    "from sklearn import feature_extraction, model_selection, naive_bayes, metrics, svm"
   ]
  },
  {
   "cell_type": "markdown",
   "metadata": {},
   "source": [
    "### Step 1: Loading Dataset\n",
    "\n",
    "We will first load the data"
   ]
  },
  {
   "cell_type": "code",
   "execution_count": 10,
   "metadata": {},
   "outputs": [
    {
     "name": "stdout",
     "output_type": "stream",
     "text": [
      "Spam Dataset has 4601 rows and 59 columns.\n",
      "[[0.000e+00 6.400e-01 6.400e-01 ... 6.100e+01 2.780e+02 1.000e+00]\n",
      " [2.100e-01 2.800e-01 5.000e-01 ... 1.010e+02 1.028e+03 1.000e+00]\n",
      " [6.000e-02 0.000e+00 7.100e-01 ... 4.850e+02 2.259e+03 1.000e+00]\n",
      " ...\n",
      " [3.000e-01 0.000e+00 3.000e-01 ... 6.000e+00 1.180e+02 0.000e+00]\n",
      " [9.600e-01 0.000e+00 0.000e+00 ... 5.000e+00 7.800e+01 0.000e+00]\n",
      " [0.000e+00 0.000e+00 6.500e-01 ... 5.000e+00 4.000e+01 0.000e+00]]\n"
     ]
    }
   ],
   "source": [
    "# Read the training data\n",
    "path = '/Users/mundanemohit/Google Drive/My Work/MSc. Data Analytics/WiSe 18/3113 Machine Learning Lab/Excercises/Ex9'\n",
    "os.chdir(path)\n",
    "filename = 'spambase.data'\n",
    "spamDF = pd.read_csv(filename, header=None)\n",
    "spamDF = np.array(spamDF)\n",
    "\n",
    "print(\"Spam Dataset has %d rows and %d columns.\" % (spamDF.shape[0], spamDF.shape[1]+1))\n",
    "print(spamDF)"
   ]
  },
  {
   "cell_type": "markdown",
   "metadata": {},
   "source": [
    "### Step 2: Convert dataset into Sparse Matrix (LibSVM)\n",
    "\n",
    "So we have 58 attributes for 4601 rows of data. We need to convert this data into a sparse matrix for building our spam classifier. For this purpose we will use the dump_svmlight_file inbuilt library from sklearn."
   ]
  },
  {
   "cell_type": "code",
   "execution_count": 3,
   "metadata": {},
   "outputs": [
    {
     "name": "stdout",
     "output_type": "stream",
     "text": [
      "(<4601x57 sparse matrix of type '<class 'numpy.float64'>'\n",
      "\twith 59231 stored elements in Compressed Sparse Row format>, array([1., 1., 1., ..., 0., 0., 0.]))\n"
     ]
    }
   ],
   "source": [
    "from sklearn.datasets import dump_svmlight_file, load_svmlight_file\n",
    "\n",
    "# First, we will seperate the X & y components\n",
    "X = spamDF[:,:-1]                 # Extract attributes    \n",
    "y = spamDF[:,-1]                  # Extract dependent variable\n",
    "\n",
    "# Export the data into libsvm format\n",
    "dump_svmlight_file(X, y, 'spam.dat',zero_based=True,multilabel=False)\n",
    "\n",
    "# Reload the sparse data\n",
    "df = load_svmlight_file(\"spam.dat\")\n",
    "\n",
    "print(df)"
   ]
  },
  {
   "cell_type": "markdown",
   "metadata": {},
   "source": [
    "### Step 3: Learning Classifier\n"
   ]
  },
  {
   "cell_type": "code",
   "execution_count": 4,
   "metadata": {},
   "outputs": [],
   "source": [
    "X_train, X_test, y_train, y_test = model_selection.train_test_split(df[0], df[1], test_size=0.30, random_state = 42)\n",
    "\n",
    "# Regularization parameter\n",
    "params = [{'C': [0.1 ], #1, 10], #, 50, 100\n",
    "           'kernel': ['linear']}]\n",
    "model = svm.SVC()               \n",
    "grid = GridSearchCV(model, params, cv = 5)"
   ]
  },
  {
   "cell_type": "code",
   "execution_count": 5,
   "metadata": {},
   "outputs": [
    {
     "data": {
      "text/plain": [
       "GridSearchCV(cv=5, error_score='raise',\n",
       "       estimator=SVC(C=1.0, cache_size=200, class_weight=None, coef0=0.0,\n",
       "  decision_function_shape='ovr', degree=3, gamma='auto', kernel='rbf',\n",
       "  max_iter=-1, probability=False, random_state=None, shrinking=True,\n",
       "  tol=0.001, verbose=False),\n",
       "       fit_params={}, iid=True, n_jobs=1,\n",
       "       param_grid=[{'C': [0.1], 'kernel': ['linear']}],\n",
       "       pre_dispatch='2*n_jobs', refit=True, scoring=None, verbose=0)"
      ]
     },
     "execution_count": 5,
     "metadata": {},
     "output_type": "execute_result"
    }
   ],
   "source": [
    "grid.fit(X_train, y_train)"
   ]
  },
  {
   "cell_type": "code",
   "execution_count": 6,
   "metadata": {},
   "outputs": [
    {
     "data": {
      "text/html": [
       "<div>\n",
       "<style scoped>\n",
       "    .dataframe tbody tr th:only-of-type {\n",
       "        vertical-align: middle;\n",
       "    }\n",
       "\n",
       "    .dataframe tbody tr th {\n",
       "        vertical-align: top;\n",
       "    }\n",
       "\n",
       "    .dataframe thead th {\n",
       "        text-align: right;\n",
       "    }\n",
       "</style>\n",
       "<table border=\"1\" class=\"dataframe\">\n",
       "  <thead>\n",
       "    <tr style=\"text-align: right;\">\n",
       "      <th></th>\n",
       "      <th>parameters</th>\n",
       "      <th>mean_validation_score</th>\n",
       "      <th>cv_validation_scores</th>\n",
       "    </tr>\n",
       "  </thead>\n",
       "  <tbody>\n",
       "    <tr>\n",
       "      <th>0</th>\n",
       "      <td>{'C': 0.1, 'kernel': 'linear'}</td>\n",
       "      <td>0.921118</td>\n",
       "      <td>[0.9085271317829458, 0.9161490683229814, 0.917...</td>\n",
       "    </tr>\n",
       "  </tbody>\n",
       "</table>\n",
       "</div>"
      ],
      "text/plain": [
       "                       parameters  mean_validation_score  \\\n",
       "0  {'C': 0.1, 'kernel': 'linear'}               0.921118   \n",
       "\n",
       "                                cv_validation_scores  \n",
       "0  [0.9085271317829458, 0.9161490683229814, 0.917...  "
      ]
     },
     "execution_count": 6,
     "metadata": {},
     "output_type": "execute_result"
    }
   ],
   "source": [
    "pd.DataFrame(grid.grid_scores_)"
   ]
  },
  {
   "cell_type": "code",
   "execution_count": 7,
   "metadata": {},
   "outputs": [
    {
     "name": "stdout",
     "output_type": "stream",
     "text": [
      "Best estimator found by grid search:\n",
      "SVC(C=0.1, cache_size=200, class_weight=None, coef0=0.0,\n",
      "  decision_function_shape='ovr', degree=3, gamma='auto', kernel='linear',\n",
      "  max_iter=-1, probability=False, random_state=None, shrinking=True,\n",
      "  tol=0.001, verbose=False)\n"
     ]
    }
   ],
   "source": [
    "print(\"Best estimator found by grid search:\")\n",
    "print(grid.best_estimator_)"
   ]
  },
  {
   "cell_type": "code",
   "execution_count": 8,
   "metadata": {},
   "outputs": [
    {
     "name": "stdout",
     "output_type": "stream",
     "text": [
      "Training Accuracy --->  0.92733\n",
      "Test Accuracy ---> 0.92397\n"
     ]
    }
   ],
   "source": [
    "svc = grid.best_estimator_\n",
    "svc.fit(X_train, y_train)\n",
    "score_train = svc.score(X_train, y_train)\n",
    "score_test = svc.score(X_test, y_test)\n",
    "print(\"Training Accuracy ---> \", np.round(score_train,5))\n",
    "print(\"Test Accuracy --->\", np.round(score_test, 5))"
   ]
  },
  {
   "cell_type": "markdown",
   "metadata": {},
   "source": [
    " **Due to processing time constraints, I was unable to test the model for more than 1 regularization values**"
   ]
  },
  {
   "cell_type": "markdown",
   "metadata": {},
   "source": [
    "## Part B: (8 Points): Pre-processed a dataset and learn SVM\n",
    "\n",
    "+ The dataset D2 is not preprocessed. It consists of label[ham or spam] and content of sms text. \n",
    "+ Your task in this part is to pre-process this data into a processable format. \n",
    "+ Using OneHotEnconding might not help, therefore you have to use other means of converting text data into features. \n",
    "+ You can look at scikit-learn text feature extraction utilities i.e. TFIDF or count. \n",
    "+ You might also want to get rid of the stop words i.e. This, the, is, a etc, which appear in almost all the documents. \n",
    "+ After preprocessing you have to use SVM implementation provided by scikit-learn. \n",
    "+ Here you will experiment with different hyperparameters and two kernels (linear and RBF). \n",
    "+ As usual you will perform 5-fold cross validation and present the score using plots and tables. \n",
    "+ You might also want to look at sklearn.pipeline.Pipeline utility to streamline your workflow.\n",
    "\n",
    "## Solution:\n",
    "\n",
    "### Step 1: Loading Dataset"
   ]
  },
  {
   "cell_type": "code",
   "execution_count": 85,
   "metadata": {},
   "outputs": [
    {
     "name": "stdout",
     "output_type": "stream",
     "text": [
      "(5572, 2)\n"
     ]
    },
    {
     "data": {
      "text/html": [
       "<div>\n",
       "<style scoped>\n",
       "    .dataframe tbody tr th:only-of-type {\n",
       "        vertical-align: middle;\n",
       "    }\n",
       "\n",
       "    .dataframe tbody tr th {\n",
       "        vertical-align: top;\n",
       "    }\n",
       "\n",
       "    .dataframe thead th {\n",
       "        text-align: right;\n",
       "    }\n",
       "</style>\n",
       "<table border=\"1\" class=\"dataframe\">\n",
       "  <thead>\n",
       "    <tr style=\"text-align: right;\">\n",
       "      <th></th>\n",
       "      <th>y</th>\n",
       "      <th>x</th>\n",
       "    </tr>\n",
       "  </thead>\n",
       "  <tbody>\n",
       "    <tr>\n",
       "      <th>0</th>\n",
       "      <td>ham</td>\n",
       "      <td>Go until jurong point, crazy.. Available only ...</td>\n",
       "    </tr>\n",
       "    <tr>\n",
       "      <th>1</th>\n",
       "      <td>ham</td>\n",
       "      <td>Ok lar... Joking wif u oni...</td>\n",
       "    </tr>\n",
       "    <tr>\n",
       "      <th>2</th>\n",
       "      <td>spam</td>\n",
       "      <td>Free entry in 2 a wkly comp to win FA Cup fina...</td>\n",
       "    </tr>\n",
       "    <tr>\n",
       "      <th>3</th>\n",
       "      <td>ham</td>\n",
       "      <td>U dun say so early hor... U c already then say...</td>\n",
       "    </tr>\n",
       "    <tr>\n",
       "      <th>4</th>\n",
       "      <td>ham</td>\n",
       "      <td>Nah I don't think he goes to usf, he lives aro...</td>\n",
       "    </tr>\n",
       "  </tbody>\n",
       "</table>\n",
       "</div>"
      ],
      "text/plain": [
       "      y                                                  x\n",
       "0   ham  Go until jurong point, crazy.. Available only ...\n",
       "1   ham                      Ok lar... Joking wif u oni...\n",
       "2  spam  Free entry in 2 a wkly comp to win FA Cup fina...\n",
       "3   ham  U dun say so early hor... U c already then say...\n",
       "4   ham  Nah I don't think he goes to usf, he lives aro..."
      ]
     },
     "execution_count": 85,
     "metadata": {},
     "output_type": "execute_result"
    }
   ],
   "source": [
    "data = pd.read_csv('SMSSpam', sep='\\t', header=None, names=('y','x'))\n",
    "print(data.shape)\n",
    "data.head()"
   ]
  },
  {
   "cell_type": "code",
   "execution_count": 86,
   "metadata": {},
   "outputs": [
    {
     "data": {
      "image/png": "[encoded data removed]",
      "text/plain": [
       "<matplotlib.figure.Figure at 0x1a249754e0>"
      ]
     },
     "metadata": {},
     "output_type": "display_data"
    }
   ],
   "source": [
    "# Let's see distribution of classes in the dataset\n",
    "count_Class=pd.value_counts(data[\"y\"], sort= True)\n",
    "count_Class.plot(kind = 'pie',  autopct='%1.0f%%')\n",
    "plt.title('Pie chart')\n",
    "plt.ylabel('')\n",
    "plt.show()"
   ]
  },
  {
   "cell_type": "markdown",
   "metadata": {},
   "source": [
    "## Step 2: Feature Engineering\n",
    "\n",
    "Now we will seperate the words in a message into features. For this, we will use the counter class."
   ]
  },
  {
   "cell_type": "code",
   "execution_count": 87,
   "metadata": {},
   "outputs": [
    {
     "data": {
      "text/html": [
       "<div>\n",
       "<style scoped>\n",
       "    .dataframe tbody tr th:only-of-type {\n",
       "        vertical-align: middle;\n",
       "    }\n",
       "\n",
       "    .dataframe tbody tr th {\n",
       "        vertical-align: top;\n",
       "    }\n",
       "\n",
       "    .dataframe thead th {\n",
       "        text-align: right;\n",
       "    }\n",
       "</style>\n",
       "<table border=\"1\" class=\"dataframe\">\n",
       "  <thead>\n",
       "    <tr style=\"text-align: right;\">\n",
       "      <th></th>\n",
       "      <th>words in spam</th>\n",
       "      <th>count_</th>\n",
       "    </tr>\n",
       "  </thead>\n",
       "  <tbody>\n",
       "    <tr>\n",
       "      <th>0</th>\n",
       "      <td>to</td>\n",
       "      <td>607</td>\n",
       "    </tr>\n",
       "    <tr>\n",
       "      <th>1</th>\n",
       "      <td>a</td>\n",
       "      <td>360</td>\n",
       "    </tr>\n",
       "    <tr>\n",
       "      <th>2</th>\n",
       "      <td>your</td>\n",
       "      <td>187</td>\n",
       "    </tr>\n",
       "    <tr>\n",
       "      <th>3</th>\n",
       "      <td>call</td>\n",
       "      <td>185</td>\n",
       "    </tr>\n",
       "    <tr>\n",
       "      <th>4</th>\n",
       "      <td>or</td>\n",
       "      <td>185</td>\n",
       "    </tr>\n",
       "  </tbody>\n",
       "</table>\n",
       "</div>"
      ],
      "text/plain": [
       "  words in spam  count_\n",
       "0            to     607\n",
       "1             a     360\n",
       "2          your     187\n",
       "3          call     185\n",
       "4            or     185"
      ]
     },
     "execution_count": 87,
     "metadata": {},
     "output_type": "execute_result"
    }
   ],
   "source": [
    "from collections import Counter\n",
    "\n",
    "count1 = Counter(\" \".join(data[data['y']=='ham'][\"x\"]).split()).most_common(20)\n",
    "df1 = pd.DataFrame.from_dict(count1)\n",
    "df1 = df1.rename(columns={0: \"words in non-spam\", 1 : \"count\"})\n",
    "count2 = Counter(\" \".join(data[data['y']=='spam'][\"x\"]).split()).most_common(20)\n",
    "df2 = pd.DataFrame.from_dict(count2)\n",
    "df2 = df2.rename(columns={0: \"words in spam\", 1 : \"count_\"})\n",
    "df2.head()"
   ]
  },
  {
   "cell_type": "code",
   "execution_count": 88,
   "metadata": {},
   "outputs": [
    {
     "data": {
      "image/png": "[encoded data removed]",
      "text/plain": [
       "<matplotlib.figure.Figure at 0x1a247b0898>"
      ]
     },
     "metadata": {},
     "output_type": "display_data"
    }
   ],
   "source": [
    "df1.plot.bar(legend = False)\n",
    "y_pos = np.arange(len(df1[\"words in non-spam\"]))\n",
    "plt.xticks(y_pos, df1[\"words in non-spam\"])\n",
    "plt.title('More frequent words in non-spam messages')\n",
    "plt.xlabel('words')\n",
    "plt.ylabel('number')\n",
    "plt.show()"
   ]
  },
  {
   "cell_type": "code",
   "execution_count": 89,
   "metadata": {},
   "outputs": [
    {
     "data": {
      "image/png": "[encoded data removed]",
      "text/plain": [
       "<matplotlib.figure.Figure at 0x1a2224fa58>"
      ]
     },
     "metadata": {},
     "output_type": "display_data"
    }
   ],
   "source": [
    "df2.plot.bar(legend = False, color = 'orange')\n",
    "y_pos = np.arange(len(df2[\"words in spam\"]))\n",
    "plt.xticks(y_pos, df2[\"words in spam\"])\n",
    "plt.title('More frequent words in spam messages')\n",
    "plt.xlabel('words')\n",
    "plt.ylabel('number')\n",
    "plt.show()"
   ]
  },
  {
   "cell_type": "markdown",
   "metadata": {},
   "source": [
    "We can see that the majority of frequent words in both classes are stop words such as 'to', 'a', 'or' and so on. With stop words we refer to the most common words in a lenguage, there is no simgle, universal list of stop words. We remove the stop words in order to improve the analytics."
   ]
  },
  {
   "cell_type": "code",
   "execution_count": 90,
   "metadata": {},
   "outputs": [
    {
     "name": "stdout",
     "output_type": "stream",
     "text": [
      "Before feature extraction:  (5572, 2)\n",
      "After feature extraction :  (5572, 8444)\n"
     ]
    },
    {
     "data": {
      "text/plain": [
       "<5572x8444 sparse matrix of type '<class 'numpy.int64'>'\n",
       "\twith 43578 stored elements in Compressed Sparse Row format>"
      ]
     },
     "execution_count": 90,
     "metadata": {},
     "output_type": "execute_result"
    }
   ],
   "source": [
    "print(\"Before feature extraction: \", np.shape(data))\n",
    "f = feature_extraction.text.CountVectorizer(stop_words = 'english')\n",
    "X = f.fit_transform(data[\"x\"])\n",
    "\n",
    "print(\"After feature extraction : \", np.shape(X))\n",
    "X"
   ]
  },
  {
   "cell_type": "markdown",
   "metadata": {},
   "source": [
    "Thus, now we have 8,444 new features for each text, i.e. a sparse matrix. Each feature is a unique word and it's value is 1 or 0 based on whether or not it occurs in the text.\n",
    "\n",
    "We will convert the ham/spam column into binary feature"
   ]
  },
  {
   "cell_type": "code",
   "execution_count": 91,
   "metadata": {},
   "outputs": [
    {
     "data": {
      "text/html": [
       "<div>\n",
       "<style scoped>\n",
       "    .dataframe tbody tr th:only-of-type {\n",
       "        vertical-align: middle;\n",
       "    }\n",
       "\n",
       "    .dataframe tbody tr th {\n",
       "        vertical-align: top;\n",
       "    }\n",
       "\n",
       "    .dataframe thead th {\n",
       "        text-align: right;\n",
       "    }\n",
       "</style>\n",
       "<table border=\"1\" class=\"dataframe\">\n",
       "  <thead>\n",
       "    <tr style=\"text-align: right;\">\n",
       "      <th></th>\n",
       "      <th>y</th>\n",
       "      <th>x</th>\n",
       "    </tr>\n",
       "  </thead>\n",
       "  <tbody>\n",
       "    <tr>\n",
       "      <th>0</th>\n",
       "      <td>0</td>\n",
       "      <td>Go until jurong point, crazy.. Available only ...</td>\n",
       "    </tr>\n",
       "    <tr>\n",
       "      <th>1</th>\n",
       "      <td>0</td>\n",
       "      <td>Ok lar... Joking wif u oni...</td>\n",
       "    </tr>\n",
       "    <tr>\n",
       "      <th>2</th>\n",
       "      <td>1</td>\n",
       "      <td>Free entry in 2 a wkly comp to win FA Cup fina...</td>\n",
       "    </tr>\n",
       "    <tr>\n",
       "      <th>3</th>\n",
       "      <td>0</td>\n",
       "      <td>U dun say so early hor... U c already then say...</td>\n",
       "    </tr>\n",
       "    <tr>\n",
       "      <th>4</th>\n",
       "      <td>0</td>\n",
       "      <td>Nah I don't think he goes to usf, he lives aro...</td>\n",
       "    </tr>\n",
       "  </tbody>\n",
       "</table>\n",
       "</div>"
      ],
      "text/plain": [
       "   y                                                  x\n",
       "0  0  Go until jurong point, crazy.. Available only ...\n",
       "1  0                      Ok lar... Joking wif u oni...\n",
       "2  1  Free entry in 2 a wkly comp to win FA Cup fina...\n",
       "3  0  U dun say so early hor... U c already then say...\n",
       "4  0  Nah I don't think he goes to usf, he lives aro..."
      ]
     },
     "execution_count": 91,
     "metadata": {},
     "output_type": "execute_result"
    }
   ],
   "source": [
    "data[\"y\"]= data[\"y\"].map({'spam':1,'ham':0})\n",
    "data.head()"
   ]
  },
  {
   "cell_type": "markdown",
   "metadata": {
    "slideshow": {
     "slide_type": "subslide"
    }
   },
   "source": [
    "## Step 3: Support Vector Machines\n",
    "\n",
    "We will now test the SVM implementation on this transformed dataset using following steps:\n",
    "+ Perform Grid-Search for hyper-paramater 'C' (Regularization) and the kernel (linear/rbf)\n",
    "+ Find out best estimator based on training set performance\n",
    "+ Evaluate performance on the test set"
   ]
  },
  {
   "cell_type": "code",
   "execution_count": 17,
   "metadata": {},
   "outputs": [
    {
     "data": {
      "text/plain": [
       "GridSearchCV(cv=5, error_score='raise',\n",
       "       estimator=SVC(C=1.0, cache_size=200, class_weight=None, coef0=0.0,\n",
       "  decision_function_shape='ovr', degree=3, gamma='auto', kernel='rbf',\n",
       "  max_iter=-1, probability=False, random_state=None, shrinking=True,\n",
       "  tol=0.001, verbose=False),\n",
       "       fit_params={}, iid=True, n_jobs=1,\n",
       "       param_grid=[{'C': array([500, 600, 700, 800, 900]), 'kernel': ['rbf', 'linear']}],\n",
       "       pre_dispatch='2*n_jobs', refit=True, scoring=None, verbose=0)"
      ]
     },
     "execution_count": 17,
     "metadata": {},
     "output_type": "execute_result"
    }
   ],
   "source": [
    "X_train, X_test, y_train, y_test = model_selection.train_test_split(X, data['y'], test_size=0.30, random_state=42)\n",
    "\n",
    "# Regularization parameter\n",
    "params = [{'C': np.arange(500, 1000, 100),\n",
    "           'kernel': ['rbf', 'linear']}]\n",
    "model = svm.SVC()               \n",
    "grid = GridSearchCV(model, params, cv = 5)\n",
    "grid.fit(X_train, y_train)"
   ]
  },
  {
   "cell_type": "code",
   "execution_count": 18,
   "metadata": {},
   "outputs": [
    {
     "data": {
      "text/html": [
       "<div>\n",
       "<style scoped>\n",
       "    .dataframe tbody tr th:only-of-type {\n",
       "        vertical-align: middle;\n",
       "    }\n",
       "\n",
       "    .dataframe tbody tr th {\n",
       "        vertical-align: top;\n",
       "    }\n",
       "\n",
       "    .dataframe thead th {\n",
       "        text-align: right;\n",
       "    }\n",
       "</style>\n",
       "<table border=\"1\" class=\"dataframe\">\n",
       "  <thead>\n",
       "    <tr style=\"text-align: right;\">\n",
       "      <th></th>\n",
       "      <th>parameters</th>\n",
       "      <th>mean_validation_score</th>\n",
       "      <th>cv_validation_scores</th>\n",
       "    </tr>\n",
       "  </thead>\n",
       "  <tbody>\n",
       "    <tr>\n",
       "      <th>0</th>\n",
       "      <td>{'C': 500, 'kernel': 'rbf'}</td>\n",
       "      <td>0.977179</td>\n",
       "      <td>[0.9782330345710627, 0.9846350832266325, 0.965...</td>\n",
       "    </tr>\n",
       "    <tr>\n",
       "      <th>1</th>\n",
       "      <td>{'C': 500, 'kernel': 'linear'}</td>\n",
       "      <td>0.978974</td>\n",
       "      <td>[0.9769526248399488, 0.9846350832266325, 0.967...</td>\n",
       "    </tr>\n",
       "    <tr>\n",
       "      <th>2</th>\n",
       "      <td>{'C': 600, 'kernel': 'rbf'}</td>\n",
       "      <td>0.977949</td>\n",
       "      <td>[0.9782330345710627, 0.9846350832266325, 0.965...</td>\n",
       "    </tr>\n",
       "    <tr>\n",
       "      <th>3</th>\n",
       "      <td>{'C': 600, 'kernel': 'linear'}</td>\n",
       "      <td>0.978974</td>\n",
       "      <td>[0.9769526248399488, 0.9846350832266325, 0.967...</td>\n",
       "    </tr>\n",
       "    <tr>\n",
       "      <th>4</th>\n",
       "      <td>{'C': 700, 'kernel': 'rbf'}</td>\n",
       "      <td>0.979487</td>\n",
       "      <td>[0.9782330345710627, 0.9859154929577465, 0.967...</td>\n",
       "    </tr>\n",
       "    <tr>\n",
       "      <th>5</th>\n",
       "      <td>{'C': 700, 'kernel': 'linear'}</td>\n",
       "      <td>0.978974</td>\n",
       "      <td>[0.9769526248399488, 0.9846350832266325, 0.967...</td>\n",
       "    </tr>\n",
       "    <tr>\n",
       "      <th>6</th>\n",
       "      <td>{'C': 800, 'kernel': 'rbf'}</td>\n",
       "      <td>0.979744</td>\n",
       "      <td>[0.9782330345710627, 0.9859154929577465, 0.967...</td>\n",
       "    </tr>\n",
       "    <tr>\n",
       "      <th>7</th>\n",
       "      <td>{'C': 800, 'kernel': 'linear'}</td>\n",
       "      <td>0.978974</td>\n",
       "      <td>[0.9769526248399488, 0.9846350832266325, 0.967...</td>\n",
       "    </tr>\n",
       "    <tr>\n",
       "      <th>8</th>\n",
       "      <td>{'C': 900, 'kernel': 'rbf'}</td>\n",
       "      <td>0.979744</td>\n",
       "      <td>[0.9782330345710627, 0.9846350832266325, 0.967...</td>\n",
       "    </tr>\n",
       "    <tr>\n",
       "      <th>9</th>\n",
       "      <td>{'C': 900, 'kernel': 'linear'}</td>\n",
       "      <td>0.978974</td>\n",
       "      <td>[0.9769526248399488, 0.9846350832266325, 0.967...</td>\n",
       "    </tr>\n",
       "  </tbody>\n",
       "</table>\n",
       "</div>"
      ],
      "text/plain": [
       "                       parameters  mean_validation_score  \\\n",
       "0     {'C': 500, 'kernel': 'rbf'}               0.977179   \n",
       "1  {'C': 500, 'kernel': 'linear'}               0.978974   \n",
       "2     {'C': 600, 'kernel': 'rbf'}               0.977949   \n",
       "3  {'C': 600, 'kernel': 'linear'}               0.978974   \n",
       "4     {'C': 700, 'kernel': 'rbf'}               0.979487   \n",
       "5  {'C': 700, 'kernel': 'linear'}               0.978974   \n",
       "6     {'C': 800, 'kernel': 'rbf'}               0.979744   \n",
       "7  {'C': 800, 'kernel': 'linear'}               0.978974   \n",
       "8     {'C': 900, 'kernel': 'rbf'}               0.979744   \n",
       "9  {'C': 900, 'kernel': 'linear'}               0.978974   \n",
       "\n",
       "                                cv_validation_scores  \n",
       "0  [0.9782330345710627, 0.9846350832266325, 0.965...  \n",
       "1  [0.9769526248399488, 0.9846350832266325, 0.967...  \n",
       "2  [0.9782330345710627, 0.9846350832266325, 0.965...  \n",
       "3  [0.9769526248399488, 0.9846350832266325, 0.967...  \n",
       "4  [0.9782330345710627, 0.9859154929577465, 0.967...  \n",
       "5  [0.9769526248399488, 0.9846350832266325, 0.967...  \n",
       "6  [0.9782330345710627, 0.9859154929577465, 0.967...  \n",
       "7  [0.9769526248399488, 0.9846350832266325, 0.967...  \n",
       "8  [0.9782330345710627, 0.9846350832266325, 0.967...  \n",
       "9  [0.9769526248399488, 0.9846350832266325, 0.967...  "
      ]
     },
     "execution_count": 18,
     "metadata": {},
     "output_type": "execute_result"
    }
   ],
   "source": [
    "pd.DataFrame(grid.grid_scores_)"
   ]
  },
  {
   "cell_type": "markdown",
   "metadata": {},
   "source": [
    "We can already see an accuracy of close to 98% with cross-validation. We will use the best estimator to see the performance on the test set."
   ]
  },
  {
   "cell_type": "code",
   "execution_count": 19,
   "metadata": {},
   "outputs": [
    {
     "name": "stdout",
     "output_type": "stream",
     "text": [
      "Best estimator found by grid search:\n",
      "SVC(C=800, cache_size=200, class_weight=None, coef0=0.0,\n",
      "  decision_function_shape='ovr', degree=3, gamma='auto', kernel='rbf',\n",
      "  max_iter=-1, probability=False, random_state=None, shrinking=True,\n",
      "  tol=0.001, verbose=False)\n"
     ]
    }
   ],
   "source": [
    "print(\"Best estimator found by grid search:\")\n",
    "print(grid.best_estimator_)"
   ]
  },
  {
   "cell_type": "code",
   "execution_count": 20,
   "metadata": {},
   "outputs": [
    {
     "name": "stdout",
     "output_type": "stream",
     "text": [
      "Training Accuracy --->  0.99769\n",
      "Test Accuracy ---> 0.98744\n"
     ]
    }
   ],
   "source": [
    "svc = grid.best_estimator_\n",
    "svc.fit(X_train, y_train)\n",
    "score_train = svc.score(X_train, y_train)\n",
    "score_test = svc.score(X_test, y_test)\n",
    "print(\"Training Accuracy ---> \", np.round(score_train,5))\n",
    "print(\"Test Accuracy --->\", np.round(score_test, 5))"
   ]
  },
  {
   "cell_type": "markdown",
   "metadata": {},
   "source": [
    "# Exercise 2: Compare SVM based spam filter with another model (4 Points)\n",
    "\n",
    "+ You have to compare results obtained in one of the task above with another model of your choice (decision trees or logistic regression etc). \n",
    "+ Optimize the hyperparameters and perform 5-fold cross validation. \n",
    "+ You can use scikit-learn implementation. \n",
    "+ Compare the results and accuracy. \n",
    "+ Finally conclude your findings.\n",
    "\n",
    "# Solution\n",
    "\n",
    "We will use a Decision-Tree classifier for comparison purposes. To build & test the classifier, we will need the following functions:\n",
    "\n",
    "+ <b>load_data()</b>: Function to load data and divide it into training and testing sets if necessary\n",
    "+ <b>Find_HyperParams()</b>: Function to iteratively determine the best hyperparameter combination for the decision tree based on the training set. We will use 5-fold cross-validation with Grid-search.\n",
    "+ <b>Top_K_Features()</b>: Function to find top k features based on their weightage in the model.\n",
    "+ <b>Show_AUC()</b>: Function to print the area under the curve. This is one of the determinants of model performance."
   ]
  },
  {
   "cell_type": "code",
   "execution_count": null,
   "metadata": {},
   "outputs": [],
   "source": [
    "# If Train is True, we split the dataset into training and testing\n",
    "# size variable specifies the train-test ratio\n",
    "def load_data(Train=False, size = 0.3):\n",
    "    # Read the training data\n",
    "    path = '/Users/mundanemohit/Google Drive/My Work/MSc. Data Analytics/WiSe 18/3113 Machine Learning Lab/Excercises/Ex9'\n",
    "    os.chdir(path)\n",
    "    filename = 'spambase.data'\n",
    "    data = pd.read_csv(filename, header=None)\n",
    "    data = np.array(data)\n",
    "\n",
    "    X = np.array([x[:-1] for x in data]).astype(np.float)    # Extract attributes    \n",
    "    y = np.array([x[-1] for x in data]).astype(np.float)     # Extract dependent variable\n",
    "    \n",
    "    del data # free up the memory\n",
    "    \n",
    "    if Train:\n",
    "        # returns X_train, X_test, y_train, y_test\n",
    "        return train_test_split(X, y, test_size=size, random_state=RandomState())\n",
    "    else:\n",
    "        return X, y\n",
    "\n",
    "def find_hyperparams(clf, X, y):\n",
    "    # Set the parameters by cross-validation\n",
    "    param_grid = [{'criterion': ['gini', 'entropy'],\n",
    "                    'splitter': ['best', 'random'],\n",
    "                    'max_features': ['sqrt', 'log2', None, 0.1, 0.2, 0.3, 0.4, 0.5, 0.6, 0.7, 0.8, 0.9 ]}]\n",
    "    grid = GridSearchCV(clf, param_grid, cv = 5)\n",
    "    grid.fit(X, y)\n",
    "    print('Grid-Search performed with 5-Folds!')\n",
    "    return grid.best_estimator_\n",
    "\n",
    "def top_k_features(k, weights):\n",
    "# User data\n",
    "    word_labels = ['wf_make', 'wf_address', 'wf_all', 'wf_3d', 'wf_our', 'wf_over', 'wf_remove', 'wf_internet', 'wf_order',\n",
    "                'wf_mail', 'wf_receive', 'wf_will', 'wf_people', 'wf_report', 'wf_addresses', 'wf_free', 'wf_business',\n",
    "                'wf_email', 'wf_you', 'wf_credit', 'wf_your', 'wf_font', 'wf_000','wf_money', 'wf_hp',  'wf_hpl', \n",
    "                'wf_george', 'wf_650', 'wf_lab', 'wf_labs', 'wf_telnet', 'wf_857', 'wf_data', 'wf_415', 'wf_85',\n",
    "                'wf_technology', 'wf_1999', 'wf_parts', 'wf_pm', 'wf_direct', 'wf_cs', 'wf_meeting', 'wf_original',\n",
    "                'wf_project', 'wf_re', 'wf_edu', 'wf_table', 'wf_conference' , 'cf_;', 'cf_(', 'cf_[', 'cf_!', 'cf_$', \n",
    "                'cf_#', 'capital_run_length_average', 'capital_run_length_longest', 'capital_run_length_total' ]\n",
    "    \n",
    "    return sorted(zip(word_labels, weights), reverse=True, key=operator.itemgetter(1))[:k]\n",
    "\n",
    "def show_auc(y_true, y_score):\n",
    "    fpr, tpr, _ = roc_curve(y_true, y_score)\n",
    "    roc_auc = auc(fpr, tpr)\n",
    "    plt.figure()\n",
    "    plt.plot(fpr, tpr, label='ROC curve (area = %0.2f)' % roc_auc)\n",
    "    plt.plot([0, 1], [0, 1], 'k--')\n",
    "    plt.xlim([0.0, 1.0])\n",
    "    plt.ylim([0.0, 1.05])\n",
    "    plt.xlabel('False Positive Rate')\n",
    "    plt.ylabel('True Positive Rate')\n",
    "    plt.title('Receiver operating characteristic example')\n",
    "    plt.legend(loc=\"lower right\")\n",
    "    plt.show()"
   ]
  },
  {
   "cell_type": "markdown",
   "metadata": {},
   "source": [
    "Let's perform the analysis now with 10 iterations to see the avg. score of the model"
   ]
  },
  {
   "cell_type": "code",
   "execution_count": 22,
   "metadata": {},
   "outputs": [
    {
     "name": "stdout",
     "output_type": "stream",
     "text": [
      "Grid-Search performed with 5-Folds!\n",
      "\n",
      "Best hyperparameters:  DecisionTreeClassifier(class_weight=None, criterion='gini', max_depth=None,\n",
      "            max_features=0.1, max_leaf_nodes=None,\n",
      "            min_impurity_decrease=0.0, min_impurity_split=None,\n",
      "            min_samples_leaf=1, min_samples_split=2,\n",
      "            min_weight_fraction_leaf=0.0, presort=False, random_state=None,\n",
      "            splitter='random')\n"
     ]
    },
    {
     "data": {
      "image/png": "[encoded data removed]",
      "text/plain": [
       "<matplotlib.figure.Figure at 0x10e116c50>"
      ]
     },
     "metadata": {},
     "output_type": "display_data"
    },
    {
     "name": "stdout",
     "output_type": "stream",
     "text": [
      "Top 5 Features: \n",
      "[('wf_000', 0.08715979440535351), ('wf_our', 0.07992912033078307), ('wf_business', 0.079502269043142), ('wf_credit', 0.06516712844507547), ('cf_!', 0.058065400552069775)]\n",
      "\n",
      "\n",
      "Accuracy ---> Avg: 0.89710, Std: 0.01366\n",
      "\n",
      "AUC     ---> Avg: 0.89316, Std: 0.01424\n"
     ]
    }
   ],
   "source": [
    "iterations = 10\n",
    "scores = []\n",
    "roc_auc = []\n",
    "\n",
    "# Find the best combination of hyperparameters\n",
    "clf = DecisionTreeClassifier()\n",
    "best_Tree = find_hyperparams(clf, X_train, y_train)\n",
    "print(\"\\nBest hyperparameters: \", best_Tree)\n",
    "    \n",
    "# Use these parameters to test the model\n",
    "for i in range(iterations):\n",
    "    X_train, X_test, y_train, y_test = load_data(Train=True)\n",
    "    clf = best_Tree\n",
    "    clf.fit(X_train, y_train)\n",
    "    scores.append(clf.score(X_test, y_test))\n",
    "    fpr, tpr, _ = roc_curve(y_test, clf.predict_proba(X_test)[:, 1])\n",
    "    roc_auc.append(auc(fpr, tpr))\n",
    "\n",
    "# Print AUC Graph\n",
    "show_auc(y_test, clf.predict_proba(X_test)[:, 1])\n",
    "print(\"Top 5 Features: \")\n",
    "print(top_k_features(5, clf.feature_importances_))\n",
    "    \n",
    "print('\\n\\nAccuracy ---> Avg: %0.5f, Std: %0.5f' % (np.mean(scores), np.std(scores)))\n",
    "print('\\nAUC     ---> Avg: %0.5f, Std: %0.5f' % (np.mean(roc_auc), np.std(roc_auc)))"
   ]
  },
  {
   "cell_type": "markdown",
   "metadata": {},
   "source": [
    "## Conclusion\n",
    "\n",
    "A **decision tree** based model achieved an accuracy of 89.7% which was significantly lower than the 92.7% accuracy with **SVM**. This is because an SVM has more dimensions than a tree-based model and can thus create finer classification layers. However, SVM model also requires more computational power and is thus better suited for smaller, sparse classification problems."
   ]
  },
  {
   "cell_type": "markdown",
   "metadata": {},
   "source": [
    "References:\n",
    "    \n",
    "+ https://github.com/sampepose/SpamClassifier/blob/\n",
    "+ https://www.kaggle.com/pablovargas/naive-bayes-svm-spam-filtering"
   ]
  }
 ],
 "metadata": {
  "kernelspec": {
   "display_name": "Python 3",
   "language": "python",
   "name": "python3"
  },
  "language_info": {
   "codemirror_mode": {
    "name": "ipython",
    "version": 3
   },
   "file_extension": ".py",
   "mimetype": "text/x-python",
   "name": "python",
   "nbconvert_exporter": "python",
   "pygments_lexer": "ipython3",
   "version": "3.6.4"
  }
 },
 "nbformat": 4,
 "nbformat_minor": 2
}
