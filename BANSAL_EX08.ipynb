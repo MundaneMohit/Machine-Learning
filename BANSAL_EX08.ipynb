{
 "cells": [
  {
   "cell_type": "markdown",
   "metadata": {},
   "source": [
    "# <center>Machine Learning Lab: Exercise Sheet 8</center>\n",
    "<center> <b>Submitted By: Mohit Bansal</b></center>\n",
    "<center> <b>Student ID: 279314</b></center>"
   ]
  },
  {
   "cell_type": "markdown",
   "metadata": {},
   "source": [
    "**1. Recommender Datasets:** You can use one of the two datasets (or optionally, both datasets).\n",
    "+ (a) movielens 100k dataset D1: Rating prediction dataset (rating scale 1-5): http://grouplens.org/datasets/movielens/100k/\n",
    "+ (b) Wine Quality called D2: (use winequality-red.csv): http://archive.ics.uci.edu/ml/datasets/Wine+Quality\n",
    "\n",
    "**2. The RMSE score for rating prediction is available at Mymedialite website: **http://www.mymedialite.net/examples/datasets.html\n",
    "\n",
    "# Exercise 1: Recommender Dataset (4 Points)\n",
    "\n",
    "+ Perform the statistical analysis of the two datasets given. \n",
    "+ Your analysis should provide as much information as possible. \n",
    "+ You must use all the related information of users and movies for the analysis i.e. rating, user (age group, zipcode etc) and item(genre, title, release date etc). \n",
    "+ The grading of this task depends on the useful information extracted from the given datasets, which can help in the learning process.\n",
    "+ Use tables, graphs to represent your information.\n",
    "\n",
    "## Loading & Preparing Datasets"
   ]
  },
  {
   "cell_type": "code",
   "execution_count": 166,
   "metadata": {},
   "outputs": [],
   "source": [
    "# Import Libraries\n",
    "import os\n",
    "import pandas as pd\n",
    "import numpy as np\n",
    "import matplotlib.pyplot as plt\n",
    "\n",
    "# loading training data\n",
    "path = '/Users/mundanemohit/Google Drive/My Work/MSc. Data Analytics/WiSe 18/3113 Machine Learning Lab/Excercises/Ex8'\n",
    "os.chdir(path)\n",
    "\n",
    "# User data\n",
    "u_cols = ['user_id', 'age', 'sex', 'occupation', 'zip_code']\n",
    "userDF = pd.read_csv('ml-100k/u.user', sep='|', names=u_cols,\n",
    "                    encoding='latin-1')"
   ]
  },
  {
   "cell_type": "code",
   "execution_count": 167,
   "metadata": {},
   "outputs": [
    {
     "data": {
      "text/html": [
       "<div>\n",
       "<style scoped>\n",
       "    .dataframe tbody tr th:only-of-type {\n",
       "        vertical-align: middle;\n",
       "    }\n",
       "\n",
       "    .dataframe tbody tr th {\n",
       "        vertical-align: top;\n",
       "    }\n",
       "\n",
       "    .dataframe thead th {\n",
       "        text-align: right;\n",
       "    }\n",
       "</style>\n",
       "<table border=\"1\" class=\"dataframe\">\n",
       "  <thead>\n",
       "    <tr style=\"text-align: right;\">\n",
       "      <th></th>\n",
       "      <th>user_id</th>\n",
       "      <th>age</th>\n",
       "      <th>sex</th>\n",
       "      <th>occupation</th>\n",
       "      <th>zip_code</th>\n",
       "    </tr>\n",
       "  </thead>\n",
       "  <tbody>\n",
       "    <tr>\n",
       "      <th>0</th>\n",
       "      <td>1</td>\n",
       "      <td>24</td>\n",
       "      <td>M</td>\n",
       "      <td>technician</td>\n",
       "      <td>85711</td>\n",
       "    </tr>\n",
       "    <tr>\n",
       "      <th>1</th>\n",
       "      <td>2</td>\n",
       "      <td>53</td>\n",
       "      <td>F</td>\n",
       "      <td>other</td>\n",
       "      <td>94043</td>\n",
       "    </tr>\n",
       "    <tr>\n",
       "      <th>2</th>\n",
       "      <td>3</td>\n",
       "      <td>23</td>\n",
       "      <td>M</td>\n",
       "      <td>writer</td>\n",
       "      <td>32067</td>\n",
       "    </tr>\n",
       "    <tr>\n",
       "      <th>3</th>\n",
       "      <td>4</td>\n",
       "      <td>24</td>\n",
       "      <td>M</td>\n",
       "      <td>technician</td>\n",
       "      <td>43537</td>\n",
       "    </tr>\n",
       "    <tr>\n",
       "      <th>4</th>\n",
       "      <td>5</td>\n",
       "      <td>33</td>\n",
       "      <td>F</td>\n",
       "      <td>other</td>\n",
       "      <td>15213</td>\n",
       "    </tr>\n",
       "  </tbody>\n",
       "</table>\n",
       "</div>"
      ],
      "text/plain": [
       "   user_id  age sex  occupation zip_code\n",
       "0        1   24   M  technician    85711\n",
       "1        2   53   F       other    94043\n",
       "2        3   23   M      writer    32067\n",
       "3        4   24   M  technician    43537\n",
       "4        5   33   F       other    15213"
      ]
     },
     "execution_count": 167,
     "metadata": {},
     "output_type": "execute_result"
    }
   ],
   "source": [
    "userDF.head()"
   ]
  },
  {
   "cell_type": "code",
   "execution_count": 7,
   "metadata": {},
   "outputs": [
    {
     "data": {
      "text/html": [
       "<div>\n",
       "<style scoped>\n",
       "    .dataframe tbody tr th:only-of-type {\n",
       "        vertical-align: middle;\n",
       "    }\n",
       "\n",
       "    .dataframe tbody tr th {\n",
       "        vertical-align: top;\n",
       "    }\n",
       "\n",
       "    .dataframe thead th {\n",
       "        text-align: right;\n",
       "    }\n",
       "</style>\n",
       "<table border=\"1\" class=\"dataframe\">\n",
       "  <thead>\n",
       "    <tr style=\"text-align: right;\">\n",
       "      <th></th>\n",
       "      <th>user_id</th>\n",
       "      <th>movie_id</th>\n",
       "      <th>rating</th>\n",
       "      <th>unix_timestamp</th>\n",
       "    </tr>\n",
       "  </thead>\n",
       "  <tbody>\n",
       "    <tr>\n",
       "      <th>0</th>\n",
       "      <td>196</td>\n",
       "      <td>242</td>\n",
       "      <td>3</td>\n",
       "      <td>881250949</td>\n",
       "    </tr>\n",
       "    <tr>\n",
       "      <th>1</th>\n",
       "      <td>186</td>\n",
       "      <td>302</td>\n",
       "      <td>3</td>\n",
       "      <td>891717742</td>\n",
       "    </tr>\n",
       "    <tr>\n",
       "      <th>2</th>\n",
       "      <td>22</td>\n",
       "      <td>377</td>\n",
       "      <td>1</td>\n",
       "      <td>878887116</td>\n",
       "    </tr>\n",
       "    <tr>\n",
       "      <th>3</th>\n",
       "      <td>244</td>\n",
       "      <td>51</td>\n",
       "      <td>2</td>\n",
       "      <td>880606923</td>\n",
       "    </tr>\n",
       "    <tr>\n",
       "      <th>4</th>\n",
       "      <td>166</td>\n",
       "      <td>346</td>\n",
       "      <td>1</td>\n",
       "      <td>886397596</td>\n",
       "    </tr>\n",
       "  </tbody>\n",
       "</table>\n",
       "</div>"
      ],
      "text/plain": [
       "   user_id  movie_id  rating  unix_timestamp\n",
       "0      196       242       3       881250949\n",
       "1      186       302       3       891717742\n",
       "2       22       377       1       878887116\n",
       "3      244        51       2       880606923\n",
       "4      166       346       1       886397596"
      ]
     },
     "execution_count": 7,
     "metadata": {},
     "output_type": "execute_result"
    }
   ],
   "source": [
    "# Ratings data \n",
    "\n",
    "r_cols = ['user_id', 'movie_id', 'rating', 'unix_timestamp']\n",
    "ratingDF = pd.read_csv('ml-100k/u.data', sep='\\t', names=r_cols,\n",
    "                      encoding='latin-1')\n",
    "ratingDF.head()"
   ]
  },
  {
   "cell_type": "code",
   "execution_count": 168,
   "metadata": {},
   "outputs": [
    {
     "data": {
      "text/html": [
       "<div>\n",
       "<style scoped>\n",
       "    .dataframe tbody tr th:only-of-type {\n",
       "        vertical-align: middle;\n",
       "    }\n",
       "\n",
       "    .dataframe tbody tr th {\n",
       "        vertical-align: top;\n",
       "    }\n",
       "\n",
       "    .dataframe thead th {\n",
       "        text-align: right;\n",
       "    }\n",
       "</style>\n",
       "<table border=\"1\" class=\"dataframe\">\n",
       "  <thead>\n",
       "    <tr style=\"text-align: right;\">\n",
       "      <th></th>\n",
       "      <th>movie_id</th>\n",
       "      <th>title</th>\n",
       "      <th>release_date</th>\n",
       "      <th>video_release_date</th>\n",
       "      <th>imdb_url</th>\n",
       "    </tr>\n",
       "  </thead>\n",
       "  <tbody>\n",
       "    <tr>\n",
       "      <th>0</th>\n",
       "      <td>1</td>\n",
       "      <td>Toy Story (1995)</td>\n",
       "      <td>01-Jan-1995</td>\n",
       "      <td>NaN</td>\n",
       "      <td>http://us.imdb.com/M/title-exact?Toy%20Story%2...</td>\n",
       "    </tr>\n",
       "    <tr>\n",
       "      <th>1</th>\n",
       "      <td>2</td>\n",
       "      <td>GoldenEye (1995)</td>\n",
       "      <td>01-Jan-1995</td>\n",
       "      <td>NaN</td>\n",
       "      <td>http://us.imdb.com/M/title-exact?GoldenEye%20(...</td>\n",
       "    </tr>\n",
       "    <tr>\n",
       "      <th>2</th>\n",
       "      <td>3</td>\n",
       "      <td>Four Rooms (1995)</td>\n",
       "      <td>01-Jan-1995</td>\n",
       "      <td>NaN</td>\n",
       "      <td>http://us.imdb.com/M/title-exact?Four%20Rooms%...</td>\n",
       "    </tr>\n",
       "    <tr>\n",
       "      <th>3</th>\n",
       "      <td>4</td>\n",
       "      <td>Get Shorty (1995)</td>\n",
       "      <td>01-Jan-1995</td>\n",
       "      <td>NaN</td>\n",
       "      <td>http://us.imdb.com/M/title-exact?Get%20Shorty%...</td>\n",
       "    </tr>\n",
       "    <tr>\n",
       "      <th>4</th>\n",
       "      <td>5</td>\n",
       "      <td>Copycat (1995)</td>\n",
       "      <td>01-Jan-1995</td>\n",
       "      <td>NaN</td>\n",
       "      <td>http://us.imdb.com/M/title-exact?Copycat%20(1995)</td>\n",
       "    </tr>\n",
       "  </tbody>\n",
       "</table>\n",
       "</div>"
      ],
      "text/plain": [
       "   movie_id              title release_date  video_release_date  \\\n",
       "0         1   Toy Story (1995)  01-Jan-1995                 NaN   \n",
       "1         2   GoldenEye (1995)  01-Jan-1995                 NaN   \n",
       "2         3  Four Rooms (1995)  01-Jan-1995                 NaN   \n",
       "3         4  Get Shorty (1995)  01-Jan-1995                 NaN   \n",
       "4         5     Copycat (1995)  01-Jan-1995                 NaN   \n",
       "\n",
       "                                            imdb_url  \n",
       "0  http://us.imdb.com/M/title-exact?Toy%20Story%2...  \n",
       "1  http://us.imdb.com/M/title-exact?GoldenEye%20(...  \n",
       "2  http://us.imdb.com/M/title-exact?Four%20Rooms%...  \n",
       "3  http://us.imdb.com/M/title-exact?Get%20Shorty%...  \n",
       "4  http://us.imdb.com/M/title-exact?Copycat%20(1995)  "
      ]
     },
     "execution_count": 168,
     "metadata": {},
     "output_type": "execute_result"
    }
   ],
   "source": [
    "# the movies file contains columns indicating the movie title & genre\n",
    "m_cols = ['movie_id', 'title', 'release_date', 'video_release_date', 'imdb_url']\n",
    "movieDF = pd.read_csv('ml-100k/u.item', sep='|', names=m_cols, usecols=range(5),\n",
    "                     encoding='latin-1')\n",
    "\n",
    "movieDF.head()"
   ]
  },
  {
   "cell_type": "code",
   "execution_count": 169,
   "metadata": {},
   "outputs": [
    {
     "data": {
      "text/html": [
       "<div>\n",
       "<style scoped>\n",
       "    .dataframe tbody tr th:only-of-type {\n",
       "        vertical-align: middle;\n",
       "    }\n",
       "\n",
       "    .dataframe tbody tr th {\n",
       "        vertical-align: top;\n",
       "    }\n",
       "\n",
       "    .dataframe thead th {\n",
       "        text-align: right;\n",
       "    }\n",
       "</style>\n",
       "<table border=\"1\" class=\"dataframe\">\n",
       "  <thead>\n",
       "    <tr style=\"text-align: right;\">\n",
       "      <th></th>\n",
       "      <th>user_id</th>\n",
       "      <th>age</th>\n",
       "      <th>sex</th>\n",
       "      <th>occupation</th>\n",
       "      <th>zip_code</th>\n",
       "      <th>movie_id</th>\n",
       "      <th>title</th>\n",
       "      <th>release_date</th>\n",
       "      <th>rating</th>\n",
       "    </tr>\n",
       "  </thead>\n",
       "  <tbody>\n",
       "    <tr>\n",
       "      <th>0</th>\n",
       "      <td>1</td>\n",
       "      <td>24</td>\n",
       "      <td>M</td>\n",
       "      <td>technician</td>\n",
       "      <td>85711</td>\n",
       "      <td>1</td>\n",
       "      <td>Toy Story (1995)</td>\n",
       "      <td>01-Jan-1995</td>\n",
       "      <td>5</td>\n",
       "    </tr>\n",
       "    <tr>\n",
       "      <th>1</th>\n",
       "      <td>1</td>\n",
       "      <td>24</td>\n",
       "      <td>M</td>\n",
       "      <td>technician</td>\n",
       "      <td>85711</td>\n",
       "      <td>2</td>\n",
       "      <td>GoldenEye (1995)</td>\n",
       "      <td>01-Jan-1995</td>\n",
       "      <td>3</td>\n",
       "    </tr>\n",
       "    <tr>\n",
       "      <th>2</th>\n",
       "      <td>1</td>\n",
       "      <td>24</td>\n",
       "      <td>M</td>\n",
       "      <td>technician</td>\n",
       "      <td>85711</td>\n",
       "      <td>3</td>\n",
       "      <td>Four Rooms (1995)</td>\n",
       "      <td>01-Jan-1995</td>\n",
       "      <td>4</td>\n",
       "    </tr>\n",
       "    <tr>\n",
       "      <th>3</th>\n",
       "      <td>1</td>\n",
       "      <td>24</td>\n",
       "      <td>M</td>\n",
       "      <td>technician</td>\n",
       "      <td>85711</td>\n",
       "      <td>4</td>\n",
       "      <td>Get Shorty (1995)</td>\n",
       "      <td>01-Jan-1995</td>\n",
       "      <td>3</td>\n",
       "    </tr>\n",
       "    <tr>\n",
       "      <th>4</th>\n",
       "      <td>1</td>\n",
       "      <td>24</td>\n",
       "      <td>M</td>\n",
       "      <td>technician</td>\n",
       "      <td>85711</td>\n",
       "      <td>5</td>\n",
       "      <td>Copycat (1995)</td>\n",
       "      <td>01-Jan-1995</td>\n",
       "      <td>3</td>\n",
       "    </tr>\n",
       "  </tbody>\n",
       "</table>\n",
       "</div>"
      ],
      "text/plain": [
       "   user_id  age sex  occupation zip_code  movie_id              title  \\\n",
       "0        1   24   M  technician    85711         1   Toy Story (1995)   \n",
       "1        1   24   M  technician    85711         2   GoldenEye (1995)   \n",
       "2        1   24   M  technician    85711         3  Four Rooms (1995)   \n",
       "3        1   24   M  technician    85711         4  Get Shorty (1995)   \n",
       "4        1   24   M  technician    85711         5     Copycat (1995)   \n",
       "\n",
       "  release_date  rating  \n",
       "0  01-Jan-1995       5  \n",
       "1  01-Jan-1995       3  \n",
       "2  01-Jan-1995       4  \n",
       "3  01-Jan-1995       3  \n",
       "4  01-Jan-1995       3  "
      ]
     },
     "execution_count": 169,
     "metadata": {},
     "output_type": "execute_result"
    }
   ],
   "source": [
    "# create one merged DataFrame\n",
    "mov_ratDF = pd.merge(movieDF, ratingDF)\n",
    "movielensDF = pd.merge(userDF, mov_ratDF)\n",
    "movielensDF  = movielensDF.drop(['video_release_date', 'imdb_url', 'unix_timestamp'], axis=1)\n",
    "movielensDF.head()"
   ]
  },
  {
   "cell_type": "markdown",
   "metadata": {},
   "source": [
    "## Preprocessing and Data Visualization\n",
    "\n",
    "### User Data:\n",
    "\n",
    "Let's analyze our user-base first."
   ]
  },
  {
   "cell_type": "code",
   "execution_count": 54,
   "metadata": {},
   "outputs": [
    {
     "data": {
      "image/png": "[encoded data removed]",
      "text/plain": [
       "<matplotlib.figure.Figure at 0x1a12a0b780>"
      ]
     },
     "metadata": {},
     "output_type": "display_data"
    }
   ],
   "source": [
    "userDF.head()\n",
    "userDF['age'].hist()\n",
    "plt.show()"
   ]
  },
  {
   "cell_type": "markdown",
   "metadata": {},
   "source": [
    "So our user base includes people aged 7 to 75. However, most of it is concentrated between ages 20 to 33."
   ]
  },
  {
   "cell_type": "code",
   "execution_count": 58,
   "metadata": {},
   "outputs": [
    {
     "name": "stdout",
     "output_type": "stream",
     "text": [
      "M    670\n",
      "F    273\n",
      "Name: sex, dtype: int64\n"
     ]
    },
    {
     "data": {
      "image/png": "[encoded data removed]",
      "text/plain": [
       "<matplotlib.figure.Figure at 0x1a0db85978>"
      ]
     },
     "metadata": {},
     "output_type": "display_data"
    }
   ],
   "source": [
    "print(userDF['sex'].value_counts())\n",
    "userDF['sex'].value_counts().plot(kind = 'pie')\n",
    "plt.show()"
   ]
  },
  {
   "cell_type": "markdown",
   "metadata": {},
   "source": [
    "70% of our user base is male."
   ]
  },
  {
   "cell_type": "code",
   "execution_count": 80,
   "metadata": {},
   "outputs": [
    {
     "data": {
      "image/png": "[encoded data removed]",
      "text/plain": [
       "<matplotlib.figure.Figure at 0x1a0e148550>"
      ]
     },
     "metadata": {},
     "output_type": "display_data"
    }
   ],
   "source": [
    "userDF['occupation'].value_counts().plot(kind = 'bar')\n",
    "plt.show()"
   ]
  },
  {
   "cell_type": "markdown",
   "metadata": {},
   "source": [
    "+ Most of our user-base is comprised of students and educators\n",
    "+ Majority of our users are from IT background (Engineer, programmer etc.) \n",
    "\n",
    "### Movie Data:\n",
    "\n",
    "Let's summarize movie ratings before doing our analysis"
   ]
  },
  {
   "cell_type": "code",
   "execution_count": 83,
   "metadata": {},
   "outputs": [
    {
     "data": {
      "text/html": [
       "<div>\n",
       "<style scoped>\n",
       "    .dataframe tbody tr th:only-of-type {\n",
       "        vertical-align: middle;\n",
       "    }\n",
       "\n",
       "    .dataframe tbody tr th {\n",
       "        vertical-align: top;\n",
       "    }\n",
       "\n",
       "    .dataframe thead th {\n",
       "        text-align: right;\n",
       "    }\n",
       "</style>\n",
       "<table border=\"1\" class=\"dataframe\">\n",
       "  <thead>\n",
       "    <tr style=\"text-align: right;\">\n",
       "      <th></th>\n",
       "      <th>rating</th>\n",
       "      <th>rating_counts</th>\n",
       "    </tr>\n",
       "    <tr>\n",
       "      <th>title</th>\n",
       "      <th></th>\n",
       "      <th></th>\n",
       "    </tr>\n",
       "  </thead>\n",
       "  <tbody>\n",
       "    <tr>\n",
       "      <th>'Til There Was You (1997)</th>\n",
       "      <td>2.333333</td>\n",
       "      <td>9</td>\n",
       "    </tr>\n",
       "    <tr>\n",
       "      <th>1-900 (1994)</th>\n",
       "      <td>2.600000</td>\n",
       "      <td>5</td>\n",
       "    </tr>\n",
       "    <tr>\n",
       "      <th>101 Dalmatians (1996)</th>\n",
       "      <td>2.908257</td>\n",
       "      <td>109</td>\n",
       "    </tr>\n",
       "    <tr>\n",
       "      <th>12 Angry Men (1957)</th>\n",
       "      <td>4.344000</td>\n",
       "      <td>125</td>\n",
       "    </tr>\n",
       "    <tr>\n",
       "      <th>187 (1997)</th>\n",
       "      <td>3.024390</td>\n",
       "      <td>41</td>\n",
       "    </tr>\n",
       "  </tbody>\n",
       "</table>\n",
       "</div>"
      ],
      "text/plain": [
       "                             rating  rating_counts\n",
       "title                                             \n",
       "'Til There Was You (1997)  2.333333              9\n",
       "1-900 (1994)               2.600000              5\n",
       "101 Dalmatians (1996)      2.908257            109\n",
       "12 Angry Men (1957)        4.344000            125\n",
       "187 (1997)                 3.024390             41"
      ]
     },
     "execution_count": 83,
     "metadata": {},
     "output_type": "execute_result"
    }
   ],
   "source": [
    "ratings_mean_count = pd.DataFrame(movielensDF.groupby('title')['rating'].mean())  \n",
    "ratings_mean_count['rating_counts'] = pd.DataFrame(movielensDF.groupby('title')['rating'].count())  \n",
    "ratings_mean_count.head()"
   ]
  },
  {
   "cell_type": "code",
   "execution_count": 75,
   "metadata": {},
   "outputs": [
    {
     "data": {
      "image/png": "[encoded data removed]",
      "text/plain": [
       "<matplotlib.figure.Figure at 0x1a10da5630>"
      ]
     },
     "metadata": {},
     "output_type": "display_data"
    }
   ],
   "source": [
    "# Plot no. of ratings\n",
    "ratings_mean_count['rating_counts'].hist(bins=100)  \n",
    "plt.title('# of ratings per movie')\n",
    "plt.xlabel('# of ratings')\n",
    "plt.ylabel('# of movies')\n",
    "plt.show()"
   ]
  },
  {
   "cell_type": "markdown",
   "metadata": {},
   "source": [
    "So we can see that,\n",
    "+ Most of the movies have been rated less than 50 times\n",
    "+ 400+ movies have recieved a 5 or less ratings\n",
    "\n"
   ]
  },
  {
   "cell_type": "code",
   "execution_count": 77,
   "metadata": {},
   "outputs": [
    {
     "data": {
      "image/png": "[encoded data removed]",
      "text/plain": [
       "<matplotlib.figure.Figure at 0x1a10ae2358>"
      ]
     },
     "metadata": {},
     "output_type": "display_data"
    }
   ],
   "source": [
    "# Plot avg. ratings\n",
    "ratings_mean_count['rating'].hist(bins=50)\n",
    "plt.title('Distribution of avg. Movie Ratings')\n",
    "plt.xlabel('avg. ratings')\n",
    "plt.ylabel('# of movies')\n",
    "plt.show()"
   ]
  },
  {
   "cell_type": "markdown",
   "metadata": {},
   "source": [
    "+ Maximum movies have an average rating of 3\n",
    "+ There are a lot of movies with 1 rating\n",
    "+ Most of the movies have average ratings between 2 and 4.5\n",
    "\n",
    "**Now let's see if there is a correlation between number of ratings and the average rating. This is to see if popular movies have a higher average rating."
   ]
  },
  {
   "cell_type": "code",
   "execution_count": 85,
   "metadata": {},
   "outputs": [
    {
     "data": {
      "text/plain": [
       "<seaborn.axisgrid.JointGrid at 0x1a0d842da0>"
      ]
     },
     "execution_count": 85,
     "metadata": {},
     "output_type": "execute_result"
    },
    {
     "data": {
      "image/png": "[encoded data removed]",
      "text/plain": [
       "<matplotlib.figure.Figure at 0x1a0d842160>"
      ]
     },
     "metadata": {},
     "output_type": "display_data"
    }
   ],
   "source": [
    "import seaborn as sns  \n",
    "sns.set_style('dark')  \n",
    "\n",
    "sns.jointplot(x='rating', y='rating_counts', data=ratings_mean_count, alpha=0.4)  "
   ]
  },
  {
   "cell_type": "markdown",
   "metadata": {},
   "source": [
    "Our hypothesis is confirmed. Most of the high-rated movies have high rating counts as well. However, this is a positive sign for a recommender system since we would want to recommend good movies based on the opinion of a large collective rather than a single individual."
   ]
  },
  {
   "cell_type": "markdown",
   "metadata": {},
   "source": [
    "# Exercise 2: Implement basic matrix factorization (MF) technique for recommender systems (8 Points)\n",
    "\n",
    "In this task you are required to implement a matrix factorization (MF) technique for recommender systems (see Annex 1). \n",
    "+ You are given a rating matrix $R^{n×m}$ and you have to learn latent matrices $P^{n×k}$ and $Q^{m×k}$\n",
    "+ Where n is the number of users, m is the number of items and k the latent dimensions. \n",
    "+ You can solve the MF problem by implementing Stochastic Gradient Descent (SGD) or Alternating Least Square (ALS) or Coordinate Descent (CD) learning algorithms. \n",
    "+ You will follow a 3-fold cross validation protocol with train, validation and test data splits. \n",
    "+ Measure the prediction quality (the RMSE score) on the test dataset.\n",
    "+ Normalize your data\n",
    "+ Optimize the hyper-parameters i.e. λ regularization constant, α learning rate, k latent dimensions.\n",
    "+ Compute the test RMSE (averaged across the 3-folds)\n",
    "\n",
    "### PROCEDURE:\n",
    "\n",
    "**Step 1: Create user-item matrix R**"
   ]
  },
  {
   "cell_type": "code",
   "execution_count": 92,
   "metadata": {},
   "outputs": [
    {
     "data": {
      "text/plain": [
       "matrix([[0., 0., 2., ..., 0., 4., 0.],\n",
       "        [0., 0., 0., ..., 0., 0., 0.],\n",
       "        [0., 0., 0., ..., 0., 0., 0.],\n",
       "        ...,\n",
       "        [0., 0., 0., ..., 0., 0., 0.],\n",
       "        [0., 0., 0., ..., 0., 0., 0.],\n",
       "        [0., 0., 0., ..., 0., 0., 0.]])"
      ]
     },
     "execution_count": 92,
     "metadata": {},
     "output_type": "execute_result"
    }
   ],
   "source": [
    "user_movie_rating = movielensDF.pivot_table(index='user_id', columns='title', values='rating')  \n",
    "user_movie_rating.head()\n",
    "R = np.matrix(user_movie_rating.fillna(0))\n",
    "R"
   ]
  },
  {
   "cell_type": "markdown",
   "metadata": {},
   "source": [
    "** Step 2: Define helper functions**\n",
    "\n",
    "+ **RMSE**: To calculate error\n",
    "+ **FULL MATRIX**: To calculate full matrix based on P, Q & biases\n",
    "+ **GET RATING**: Calculate rating of individual item"
   ]
  },
  {
   "cell_type": "code",
   "execution_count": 114,
   "metadata": {},
   "outputs": [],
   "source": [
    "def rmse(R, predicted):\n",
    "        \"\"\"\n",
    "        A function to compute the total mean square error\n",
    "        \"\"\"\n",
    "        xs, ys = R.nonzero()\n",
    "        error = 0\n",
    "        for x, y in zip(xs, ys):\n",
    "            error += pow(R[x, y] - predicted[x, y], 2)\n",
    "        return np.sqrt(error)"
   ]
  },
  {
   "cell_type": "code",
   "execution_count": null,
   "metadata": {},
   "outputs": [],
   "source": [
    "def full_matrix(P, Q, b, b_u, b_i):\n",
    "        \"\"\"\n",
    "        Computer the full matrix using the resultant biases, P and Q\n",
    "        \"\"\"\n",
    "        return b + b_u[:,np.newaxis] + b_i[np.newaxis:,] + P.dot(Q.T)\n"
   ]
  },
  {
   "cell_type": "code",
   "execution_count": 170,
   "metadata": {},
   "outputs": [],
   "source": [
    "def get_rating(P, Q, b, b_u, b_i, i, j):\n",
    "        \"\"\"\n",
    "        Get the predicted rating of user i and item j\n",
    "        \"\"\"\n",
    "        prediction = b + b_u[i] + b_i[j] + P[i, :].dot(Q[j, :].T)\n",
    "        return prediction"
   ]
  },
  {
   "cell_type": "markdown",
   "metadata": {},
   "source": [
    "** Step 3: Define SGD Function**"
   ]
  },
  {
   "cell_type": "code",
   "execution_count": 115,
   "metadata": {},
   "outputs": [],
   "source": [
    "def sgd(samples, alpha, beta, P, Q, b, b_u, b_i):\n",
    "    \"\"\"\n",
    "    Perform stochastic graident descent\n",
    "    \"\"\"\n",
    "    for i, j, r in samples:\n",
    "        # Computer prediction and error\n",
    "        prediction = get_rating(P, Q, b, b_u, b_i, i, j)\n",
    "        e = (r - prediction)\n",
    "\n",
    "        # Update biases\n",
    "        b_u[i] += alpha * (e - beta * b_u[i])\n",
    "        b_i[j] += alpha * (e - beta * b_i[j])\n",
    "\n",
    "        # Update user and item latent feature matrices\n",
    "        P[i, :] += alpha * (e * Q[j, :] - beta * P[i,:])\n",
    "        Q[j, :] += alpha * (e * P[i, :] - beta * Q[j,:])\n",
    "    return P, Q, b_u, b_i"
   ]
  },
  {
   "cell_type": "markdown",
   "metadata": {},
   "source": [
    "** Step 4: Define K-Fold matrix factorization function**"
   ]
  },
  {
   "cell_type": "code",
   "execution_count": 132,
   "metadata": {},
   "outputs": [],
   "source": [
    "# Create a list of training samples\n",
    "def train_matrix_factorization(R, k, alpha, beta, iterations = 10):\n",
    "    \"\"\"\n",
    "            Perform matrix factorization to predict empty\n",
    "            entries in a matrix.\n",
    "    Arguments\n",
    "            - R (ndarray)   : user-item rating matrix\n",
    "            - k (int)       : number of latent dimensions\n",
    "            - alpha (float) : learning rate\n",
    "            - beta (float)  : regularization parameter\n",
    "    \"\"\"\n",
    "    num_users = R.shape[0]\n",
    "    num_items = R.shape[1]\n",
    "    \n",
    "    # Initialize user and item latent feature matrice\n",
    "    P = np.random.normal(scale=1./ k, size=(num_users, k))\n",
    "    Q = np.random.normal(scale=1./ k, size=(num_items, k))\n",
    "\n",
    "    # Initialize the biases\n",
    "    b_u = np.zeros(num_users)\n",
    "    b_i = np.zeros(num_items)\n",
    "    b = np.mean(R[np.where(R != 0)])\n",
    "    \n",
    "    # Sample non-zero entries\n",
    "    samples = [\n",
    "        (i, j, R[i, j])\n",
    "        for i in range(num_users)\n",
    "            for j in range(num_items)\n",
    "                if R[i, j] > 0\n",
    "            ]\n",
    "\n",
    "    # Perform stochastic gradient descent for number of iterations\n",
    "    training_process = []\n",
    "    for i in range(iterations):\n",
    "        # For each fold\n",
    "        fold_accuracy = []\n",
    "        for fold in range(0,3):\n",
    "            np.random.shuffle(samples)\n",
    "            train_sample = samples[:int(len(samples)*2/3)]\n",
    "            test_sample = samples[int(len(samples)*2/3):]\n",
    "\n",
    "            # Perform SGD\n",
    "            P, Q, b_u, b_i = sgd(train_sample, alpha, beta, P, Q, b, b_u, b_i)\n",
    "\n",
    "            # Get new predicted matrix\n",
    "            predicted = full_matrix(P, Q, b, b_u, b_i)\n",
    "\n",
    "            # Calculate RMSE\n",
    "            error = rmse(R, predicted)\n",
    "            fold_accuracy.append(error)   \n",
    "\n",
    "        training_process.append(np.mean(fold_accuracy))\n",
    "    print(\"a = %.3f, b = %.3f, k = %d,  error = %.4f\" % (alpha, beta, k, np.mean(fold_accuracy)))\n",
    "    return training_process"
   ]
  },
  {
   "cell_type": "markdown",
   "metadata": {},
   "source": [
    "**Step 5: Perform matrix-factorization**\n",
    "\n",
    "Let's now perform matrix factorization for some value of alpha, beta & k"
   ]
  },
  {
   "cell_type": "code",
   "execution_count": 133,
   "metadata": {},
   "outputs": [
    {
     "name": "stdout",
     "output_type": "stream",
     "text": [
      "a = 0.100, b = 0.100, k = 100,  error = 193.6745\n"
     ]
    },
    {
     "data": {
      "text/plain": [
       "[<matplotlib.lines.Line2D at 0x1a2d249908>]"
      ]
     },
     "execution_count": 133,
     "metadata": {},
     "output_type": "execute_result"
    },
    {
     "data": {
      "image/png": "[encoded data removed]",
      "text/plain": [
       "<matplotlib.figure.Figure at 0x1a2d498ef0>"
      ]
     },
     "metadata": {},
     "output_type": "display_data"
    }
   ],
   "source": [
    "R = np.matrix(user_movie_rating.fillna(0))\n",
    "\n",
    "RMSEs = train_matrix_factorization(R, k = 100, alpha = 0.1, beta = 0.1, iterations = 10)\n",
    "\n",
    "plt.plot(RMSEs)\n",
    "plt.show()"
   ]
  },
  {
   "cell_type": "markdown",
   "metadata": {},
   "source": [
    "Using our initial values we reached an RMSE of 193.6 within 10 iterations.\n",
    "\n",
    "\n",
    "**Step 6: Perform grid-search**\n",
    "\n",
    "We will now do a grid-search to find optimal values for hyper-parameters"
   ]
  },
  {
   "cell_type": "code",
   "execution_count": 146,
   "metadata": {
    "scrolled": false
   },
   "outputs": [
    {
     "name": "stdout",
     "output_type": "stream",
     "text": [
      "a = 0.005, b = 0.001, k = 2,  error = 284.7872\n",
      "a = 0.005, b = 0.001, k = 10,  error = 269.4787\n",
      "a = 0.005, b = 0.001, k = 100,  error = 282.1927\n",
      "a = 0.005, b = 0.010, k = 2,  error = 286.1880\n",
      "a = 0.005, b = 0.010, k = 10,  error = 272.9628\n",
      "a = 0.005, b = 0.010, k = 100,  error = 283.5906\n",
      "a = 0.005, b = 0.100, k = 2,  error = 288.6219\n",
      "a = 0.005, b = 0.100, k = 10,  error = 288.7344\n",
      "a = 0.005, b = 0.100, k = 100,  error = 290.5380\n",
      "a = 0.010, b = 0.001, k = 2,  error = 276.1422\n",
      "a = 0.010, b = 0.001, k = 10,  error = 242.1204\n",
      "a = 0.010, b = 0.001, k = 100,  error = 204.3028\n",
      "a = 0.010, b = 0.010, k = 2,  error = 274.8162\n",
      "a = 0.010, b = 0.010, k = 10,  error = 244.1014\n",
      "a = 0.010, b = 0.010, k = 100,  error = 220.3049\n",
      "a = 0.010, b = 0.100, k = 2,  error = 283.6599\n",
      "a = 0.010, b = 0.100, k = 10,  error = 278.5348\n",
      "a = 0.010, b = 0.100, k = 100,  error = 285.9873\n"
     ]
    },
    {
     "name": "stderr",
     "output_type": "stream",
     "text": [
      "/Users/mundanemohit/anaconda3/lib/python3.6/site-packages/ipykernel_launcher.py:15: RuntimeWarning: overflow encountered in multiply\n",
      "  from ipykernel import kernelapp as app\n",
      "/Users/mundanemohit/anaconda3/lib/python3.6/site-packages/ipykernel_launcher.py:16: RuntimeWarning: overflow encountered in multiply\n",
      "  app.launch_new_instance()\n",
      "/Users/mundanemohit/anaconda3/lib/python3.6/site-packages/ipykernel_launcher.py:16: RuntimeWarning: invalid value encountered in subtract\n",
      "  app.launch_new_instance()\n",
      "/Users/mundanemohit/anaconda3/lib/python3.6/site-packages/ipykernel_launcher.py:15: RuntimeWarning: invalid value encountered in add\n",
      "  from ipykernel import kernelapp as app\n",
      "/Users/mundanemohit/anaconda3/lib/python3.6/site-packages/ipykernel_launcher.py:23: RuntimeWarning: invalid value encountered in double_scalars\n",
      "/Users/mundanemohit/anaconda3/lib/python3.6/site-packages/ipykernel_launcher.py:11: RuntimeWarning: invalid value encountered in double_scalars\n",
      "  # This is added back by InteractiveShellApp.init_path()\n"
     ]
    },
    {
     "name": "stdout",
     "output_type": "stream",
     "text": [
      "a = 0.050, b = 0.001, k = 2,  error = nan\n",
      "a = 0.050, b = 0.001, k = 10,  error = nan\n",
      "a = 0.050, b = 0.001, k = 100,  error = nan\n",
      "a = 0.050, b = 0.010, k = 2,  error = nan\n",
      "a = 0.050, b = 0.010, k = 10,  error = nan\n",
      "a = 0.050, b = 0.010, k = 100,  error = 47.0227\n",
      "a = 0.050, b = 0.100, k = 2,  error = 276.5456\n",
      "a = 0.050, b = 0.100, k = 10,  error = 245.6528\n",
      "a = 0.050, b = 0.100, k = 100,  error = 209.3588\n"
     ]
    }
   ],
   "source": [
    "alphas = [0.005, 0.01, 0.05]\n",
    "betas = [0.001, 0.01, 0.1]\n",
    "ks = [2, 10, 100]\n",
    "\n",
    "for a in alphas:\n",
    "    for b in betas:\n",
    "        for k in ks:\n",
    "            train_matrix_factorization(R, k, a, b, iterations = 10)"
   ]
  },
  {
   "cell_type": "markdown",
   "metadata": {},
   "source": [
    "So we now have the optimal values of learning rate, regularization parameter and the number of latent dimensions.\n",
    "\n",
    "a = 0.050, b = 0.010, k = 100\n",
    "\n",
    "Let's see the RMSE plot for the optimal result:"
   ]
  },
  {
   "cell_type": "code",
   "execution_count": 162,
   "metadata": {},
   "outputs": [
    {
     "name": "stdout",
     "output_type": "stream",
     "text": [
      "a = 0.050, b = 0.010, k = 100,  error = 46.8230\n"
     ]
    },
    {
     "data": {
      "image/png": "[encoded data removed]",
      "text/plain": [
       "<matplotlib.figure.Figure at 0x1a2d21dbe0>"
      ]
     },
     "metadata": {},
     "output_type": "display_data"
    }
   ],
   "source": [
    "alpha, beta, k = 0.05, 0.01, 100\n",
    "\n",
    "RMSEs = train_matrix_factorization(R, k, alpha, beta, iterations = 10)\n",
    "\n",
    "plt.plot(RMSEs)\n",
    "plt.show()"
   ]
  },
  {
   "cell_type": "markdown",
   "metadata": {},
   "source": [
    "# Exercise 3: Recommender Systems using matrix factorization libmf / sckit-learn (8 Points)\n",
    "\n",
    "+ In this task you are required to use off-the-shelf libraries such as libmf or sckit-learn. \n",
    "+ You have to learn a matrix factorization model using coordinate descent method. \n",
    "+ Optimize the hyper parameters and perform a 3-fold cross validation. \n",
    "+ Compare your results with the results in task 1. \n",
    "+ List in detail:\n",
    "    + Which/how you used these libraries?\n",
    "    + What it solves?, and \n",
    "    + Why it is selected?.\n",
    "+ Present your results in form of plots and tables.\n",
    "\n",
    "\n",
    "### Non-Negative Matrix Factorization (NMF)\n",
    "\n",
    "Find two non-negative matrices (W, H) whose product approximates the non- negative matrix X. This factorization can be used for example for dimensionality reduction, source separation or topic extraction.\n",
    "\n",
    "Let's use the same values of alpha & k and see what RMSE we get with this in-built method\n",
    "\n",
    "+ **alpha:** Regularization term\n",
    "+ **solver:** 'cd' for Coordinate Descent\n",
    "+ **n_components:** Number of latent dimensions\n",
    "\n",
    "Unfortunately, we cannot specify a learning rate in this function"
   ]
  },
  {
   "cell_type": "code",
   "execution_count": 163,
   "metadata": {},
   "outputs": [
    {
     "name": "stdout",
     "output_type": "stream",
     "text": [
      "a = 0.050, b = 0.010, k = 100,  error = 593.5501\n"
     ]
    }
   ],
   "source": [
    "from sklearn.decomposition import NMF\n",
    "\n",
    "model = NMF(n_components = k, solver='cd', alpha = beta) \n",
    "P = model.fit_transform(R)\n",
    "Q = model.components_\n",
    "\n",
    "# Predict R\n",
    "R_hat = np.dot(P, Q)\n",
    "\n",
    "print(\"a = %.3f, b = %.3f, k = %d,  error = %.4f\" % (alpha, beta, k, rmse(R, R_hat)))"
   ]
  },
  {
   "cell_type": "markdown",
   "metadata": {},
   "source": [
    "It seems like despite using the same hyper-parameters, we get a worse result with the inbuilt NMF library. Let's try to optimize the 2 hyper-parameters (alpha: regularization parameter, k: latent dimensions)"
   ]
  },
  {
   "cell_type": "code",
   "execution_count": 165,
   "metadata": {},
   "outputs": [
    {
     "name": "stdout",
     "output_type": "stream",
     "text": [
      "b = 0.050, k = 2,  error = 836.5043\n",
      "b = 0.010, k = 2,  error = 836.4862\n",
      "b = 0.100, k = 2,  error = 836.5259\n",
      "b = 0.050, k = 10,  error = 738.4916\n",
      "b = 0.010, k = 10,  error = 738.4525\n",
      "b = 0.100, k = 10,  error = 738.5382\n",
      "b = 0.050, k = 100,  error = 592.5677\n",
      "b = 0.010, k = 100,  error = 594.1420\n",
      "b = 0.100, k = 100,  error = 592.9619\n",
      "b = 0.050, k = 300,  error = 420.3913\n",
      "b = 0.010, k = 300,  error = 421.3926\n",
      "b = 0.100, k = 300,  error = 420.6447\n"
     ]
    }
   ],
   "source": [
    "betas = [0.05, 0.01, 0.1]\n",
    "ks = [2, 10, 100, 300]\n",
    "\n",
    "for k in ks:        \n",
    "    for b in betas:\n",
    "        model = NMF(n_components = k, solver='cd', alpha = b) \n",
    "        P = model.fit_transform(R)\n",
    "        Q = model.components_\n",
    "        # Predict R\n",
    "        R_hat = np.dot(P, Q)\n",
    "        print(\"b = %.3f, k = %d,  error = %.4f\" % (b, k, rmse(R, R_hat)))"
   ]
  },
  {
   "cell_type": "markdown",
   "metadata": {},
   "source": [
    "It seems that changing the regularization parameter does not have much effect on the RMSE. \n",
    "\n",
    "However, the number of latent dimensions are directly correlated to the RMSE. This makes sense, because the more variables you have, the more precise your results can be. But we need to keep in mind that the number of latent dimensions should not exceed the the dimensions of the input matrix. The whole point of matrix factorization is to reduce a sparse matrix into an approximated yet compact product of 2 (or more) matrices. So, increasing the inner-dimension of these factor matrices may give you a more precise result, but it is computationally heavier and thus it is equivalent to storing the matrix in it's original form.\n",
    "\n",
    "In conclusion, higher number of latent dimensions may eventually lead to a better prediction, but will increase computational time. We need to see the trade-off between speed and precision before deciding the K value."
   ]
  },
  {
   "cell_type": "markdown",
   "metadata": {},
   "source": [
    "#### References:\n",
    "    \n",
    "+ Creating a Simple Recommender System in Python using Pandas - https://stackabuse.com/creating-a-simple-recommender-system-in-python-using-pandas/\n",
    "+ Matrix Factorization: A Simple Tutorial and Implementation in Python - http://www.albertauyeung.com/post/python-matrix-factorization/"
   ]
  }
 ],
 "metadata": {
  "kernelspec": {
   "display_name": "Python 3",
   "language": "python",
   "name": "python3"
  },
  "language_info": {
   "codemirror_mode": {
    "name": "ipython",
    "version": 3
   },
   "file_extension": ".py",
   "mimetype": "text/x-python",
   "name": "python",
   "nbconvert_exporter": "python",
   "pygments_lexer": "ipython3",
   "version": "3.6.4"
  }
 },
 "nbformat": 4,
 "nbformat_minor": 2
}
